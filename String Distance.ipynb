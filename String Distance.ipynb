{
 "cells": [
  {
   "cell_type": "code",
   "execution_count": 1,
   "metadata": {},
   "outputs": [],
   "source": [
    "import time\n",
    "from src.string_distance import StringDistance"
   ]
  },
  {
   "cell_type": "code",
   "execution_count": 2,
   "metadata": {},
   "outputs": [],
   "source": [
    "sd = StringDistance()"
   ]
  },
  {
   "cell_type": "code",
   "execution_count": 3,
   "metadata": {},
   "outputs": [],
   "source": [
    "sd.load_cost_dict('./src/data/cost_char_dict.txt')"
   ]
  },
  {
   "cell_type": "code",
   "execution_count": 4,
   "metadata": {},
   "outputs": [],
   "source": [
    "entities = []\n",
    "with open('./src/data/adress_entities.txt') as f:\n",
    "    for line in f:\n",
    "        entities.append(line.strip())"
   ]
  },
  {
   "cell_type": "code",
   "execution_count": 5,
   "metadata": {},
   "outputs": [],
   "source": [
    "entities.append('tôn đức thắng')"
   ]
  },
  {
   "cell_type": "code",
   "execution_count": 6,
   "metadata": {},
   "outputs": [],
   "source": [
    "entities.append('kđt mới')"
   ]
  },
  {
   "cell_type": "code",
   "execution_count": 7,
   "metadata": {},
   "outputs": [],
   "source": [
    "entities.append('nguyễn thượng hiền')"
   ]
  },
  {
   "cell_type": "code",
   "execution_count": 19,
   "metadata": {},
   "outputs": [
    {
     "name": "stdout",
     "output_type": "stream",
     "text": [
      "0.6975352764129639\n"
     ]
    }
   ],
   "source": [
    "s = 'thành phố'.lower()\n",
    "t1 = time.time()\n",
    "distances = []\n",
    "for entity in entities:\n",
    "    distances.append((entity, sd.distance(s, entity)))\n",
    "t2 = time.time()\n",
    "print(t2-t1)"
   ]
  },
  {
   "cell_type": "code",
   "execution_count": 20,
   "metadata": {},
   "outputs": [],
   "source": [
    "distances.sort(key=lambda x:x[1])"
   ]
  },
  {
   "cell_type": "code",
   "execution_count": 21,
   "metadata": {},
   "outputs": [
    {
     "data": {
      "text/plain": [
       "[('thanh phú', 1.1),\n",
       " ('thạnh phú', 1.1),\n",
       " ('thành thọ', 1.6),\n",
       " ('khánh phú', 1.9000000000000001),\n",
       " ('thanh khê', 1.9000000000000001),\n",
       " ('thanh nho', 1.9000000000000001),\n",
       " ('thanh chi', 1.9000000000000001),\n",
       " ('thanh phát', 2.1),\n",
       " ('thành tô', 2.1),\n",
       " ('thanh hà', 2.1),\n",
       " ('thanh hối', 2.3),\n",
       " ('thành kim', 2.4000000000000004),\n",
       " ('thành lợi', 2.4000000000000004),\n",
       " ('thành lộc', 2.4000000000000004),\n",
       " ('thành hòa', 2.4000000000000004)]"
      ]
     },
     "execution_count": 21,
     "metadata": {},
     "output_type": "execute_result"
    }
   ],
   "source": [
    "distances[:15]"
   ]
  },
  {
   "cell_type": "code",
   "execution_count": null,
   "metadata": {},
   "outputs": [],
   "source": []
  }
 ],
 "metadata": {
  "kernelspec": {
   "display_name": "Python 3",
   "language": "python",
   "name": "python3"
  },
  "language_info": {
   "codemirror_mode": {
    "name": "ipython",
    "version": 3
   },
   "file_extension": ".py",
   "mimetype": "text/x-python",
   "name": "python",
   "nbconvert_exporter": "python",
   "pygments_lexer": "ipython3",
   "version": "3.6.5"
  }
 },
 "nbformat": 4,
 "nbformat_minor": 2
}
