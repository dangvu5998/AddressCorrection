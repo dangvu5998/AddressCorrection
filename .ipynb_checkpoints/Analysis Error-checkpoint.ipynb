{
 "cells": [
  {
   "cell_type": "code",
   "execution_count": 1,
   "metadata": {},
   "outputs": [
    {
     "name": "stdout",
     "output_type": "stream",
     "text": [
      "Using matplotlib backend: Qt5Agg\n"
     ]
    }
   ],
   "source": [
    "%matplotlib\n",
    "import json\n",
    "import imageio\n",
    "import matplotlib.pyplot as plt"
   ]
  },
  {
   "cell_type": "code",
   "execution_count": 2,
   "metadata": {},
   "outputs": [],
   "source": [
    "import pandas as pd"
   ]
  },
  {
   "cell_type": "code",
   "execution_count": 6,
   "metadata": {},
   "outputs": [],
   "source": [
    "df = pd.read_csv('./benchmark_address_full.csv')\n",
    "# df = pd.read_csv('./correct_all.csv')"
   ]
  },
  {
   "cell_type": "code",
   "execution_count": 17,
   "metadata": {},
   "outputs": [],
   "source": [
    "# false_address_df = df[df['correct_pd_address_distance'] != 0]\n",
    "# false_address_df = false_address_df[['image_file', 'gt_address', 'pd_address', 'correct_pd_address', 'correct_pd_address_distance']]\n",
    "# false_home_df = df[df['correct_pd_home_distance'] != 0]\n",
    "# false_home_df = false_home_df[['image_file', 'gt_home', 'pd_home', 'correct_pd_home', 'correct_pd_home_distance']]\n",
    "# false_address_df.to_csv('./address_correct.csv', index=False)\n",
    "# false_home_df.to_csv('./home_correct.csv', index=False)"
   ]
  },
  {
   "cell_type": "code",
   "execution_count": 4,
   "metadata": {},
   "outputs": [],
   "source": [
    "from src.address_correction import AddressCorrection\n",
    "address_correction = AddressCorrection()"
   ]
  },
  {
   "cell_type": "code",
   "execution_count": 5,
   "metadata": {},
   "outputs": [],
   "source": [
    "def normalize_address(addr):\n",
    "    if not isinstance(addr, str):\n",
    "        return str(addr)\n",
    "    addr = ' '.join(addr.split(','))\n",
    "    addr = addr.lower()\n",
    "    addr = ' '.join(addr.split())\n",
    "    return addr.strip()"
   ]
  },
  {
   "cell_type": "code",
   "execution_count": 6,
   "metadata": {},
   "outputs": [],
   "source": [
    "df['pd_home_norm'] = df['pd_home'].apply(normalize_address)\n",
    "df['pd_address_norm'] = df['pd_address'].apply(normalize_address)"
   ]
  },
  {
   "cell_type": "code",
   "execution_count": 7,
   "metadata": {},
   "outputs": [],
   "source": [
    "# df['gt_home_norm'] = df['gt_home'].apply(normalize_address)\n",
    "df['pd_address_norm'] = df['pd_address'].apply(normalize_address)"
   ]
  },
  {
   "cell_type": "code",
   "execution_count": 8,
   "metadata": {},
   "outputs": [],
   "source": [
    "def home_correct(row):\n",
    "    correct_address = address_correction.address_correction(row['pd_home_norm'])\n",
    "    row['correct_pd_home'] = correct_address[0]\n",
    "    row['correct_pd_home_distance'] = correct_address[1]\n",
    "    return row\n",
    "def address_correct(row):\n",
    "    correct_address = address_correction.address_correction(row['pd_address_norm'])\n",
    "    row['correct_pd_address'] = correct_address[0]\n",
    "    row['correct_pd_address_distance'] = correct_address[1]\n",
    "    return row"
   ]
  },
  {
   "cell_type": "code",
   "execution_count": 9,
   "metadata": {},
   "outputs": [],
   "source": [
    "df = df.apply(address_correct, axis=1)\n",
    "df = df.apply(home_correct, axis=1)"
   ]
  },
  {
   "cell_type": "code",
   "execution_count": 10,
   "metadata": {},
   "outputs": [],
   "source": [
    "df.to_csv('./correct_all.csv',index=False)"
   ]
  },
  {
   "cell_type": "code",
   "execution_count": 11,
   "metadata": {
    "scrolled": true
   },
   "outputs": [
    {
     "data": {
      "text/html": [
       "<div>\n",
       "<style scoped>\n",
       "    .dataframe tbody tr th:only-of-type {\n",
       "        vertical-align: middle;\n",
       "    }\n",
       "\n",
       "    .dataframe tbody tr th {\n",
       "        vertical-align: top;\n",
       "    }\n",
       "\n",
       "    .dataframe thead th {\n",
       "        text-align: right;\n",
       "    }\n",
       "</style>\n",
       "<table border=\"1\" class=\"dataframe\">\n",
       "  <thead>\n",
       "    <tr style=\"text-align: right;\">\n",
       "      <th></th>\n",
       "      <th>json_file</th>\n",
       "      <th>image_file</th>\n",
       "      <th>gt_address</th>\n",
       "      <th>gt_home</th>\n",
       "      <th>pd_address</th>\n",
       "      <th>pd_home</th>\n",
       "      <th>pd_home_norm</th>\n",
       "      <th>pd_address_norm</th>\n",
       "      <th>correct_pd_address</th>\n",
       "      <th>correct_pd_address_distance</th>\n",
       "      <th>correct_pd_home</th>\n",
       "      <th>correct_pd_home_distance</th>\n",
       "    </tr>\n",
       "  </thead>\n",
       "  <tbody>\n",
       "    <tr>\n",
       "      <th>0</th>\n",
       "      <td>16322705_01667047392_CMND_MatTruoc.json</td>\n",
       "      <td>16322705_01667047392_CMND_MatTruoc.jpg</td>\n",
       "      <td>6 c/c 31 33 Phan Huy Ích Phường 15 Tân Bình TP...</td>\n",
       "      <td>Cự Khê Thanh Oai Hà Nội</td>\n",
       "      <td>6 C2 C/C 31 33 PHAN, HUY ÍCH PHƯỜNG 15, TÂN BÌ...</td>\n",
       "      <td>CỰ KHÊ, THANH OAI, HÀ NỘI</td>\n",
       "      <td>cự khê thanh oai hà nội</td>\n",
       "      <td>6 c2 c/c 31 33 phan huy ích phường 15 tân bình...</td>\n",
       "      <td>6 c2 c/c 31 33 phan huy ích, phường 15, tân bì...</td>\n",
       "      <td>0.0</td>\n",
       "      <td>cự khê, thanh oai, hà nội</td>\n",
       "      <td>0.0</td>\n",
       "    </tr>\n",
       "    <tr>\n",
       "      <th>1</th>\n",
       "      <td>16322933_01658907956_CMND_MatTruoc.json</td>\n",
       "      <td>16322933_01658907956_CMND_MatTruoc.jpg</td>\n",
       "      <td>Hiệp An Kinh Môn Hải Dương</td>\n",
       "      <td>Hiệp An Kinh Môn Hải Dương</td>\n",
       "      <td>HIỆP AN, KINH MÔN, HẢI DƯƠNG</td>\n",
       "      <td>HIỆP AN, KINH MÔN, HẢI DƯƠNG</td>\n",
       "      <td>hiệp an kinh môn hải dương</td>\n",
       "      <td>hiệp an kinh môn hải dương</td>\n",
       "      <td>hiệp an, kinh môn, hải dương</td>\n",
       "      <td>0.0</td>\n",
       "      <td>hiệp an, kinh môn, hải dương</td>\n",
       "      <td>0.0</td>\n",
       "    </tr>\n",
       "    <tr>\n",
       "      <th>2</th>\n",
       "      <td>16322933_01664137516_CMND_MatTruoc.json</td>\n",
       "      <td>16322933_01664137516_CMND_MatTruoc.jpg</td>\n",
       "      <td>Hiệp  An  Kinh  Môn  Hải  Dương</td>\n",
       "      <td>Nam  Hiệp  An  Kinh  Môn  Hải  Dương</td>\n",
       "      <td>HIỆP AN, KINH MÔN, HẢI DƯƠNG</td>\n",
       "      <td>HIỆP AN, KINH MÔN, HẢI DƯƠNG</td>\n",
       "      <td>hiệp an kinh môn hải dương</td>\n",
       "      <td>hiệp an kinh môn hải dương</td>\n",
       "      <td>hiệp an, kinh môn, hải dương</td>\n",
       "      <td>0.0</td>\n",
       "      <td>hiệp an, kinh môn, hải dương</td>\n",
       "      <td>0.0</td>\n",
       "    </tr>\n",
       "    <tr>\n",
       "      <th>3</th>\n",
       "      <td>16323090_01654308069_CMND_MatTruoc.json</td>\n",
       "      <td>16323090_01654308069_CMND_MatTruoc.jpg</td>\n",
       "      <td>Hiệp An Kinh Môn Hải Dương</td>\n",
       "      <td>Hiệp An Kinh Môn Hải Dương</td>\n",
       "      <td>HIỆP AN, KINH MÔN, HẢI DƯƠNG</td>\n",
       "      <td>HIỆP AN, KINH MÔN, HẢI DƯƠNG</td>\n",
       "      <td>hiệp an kinh môn hải dương</td>\n",
       "      <td>hiệp an kinh môn hải dương</td>\n",
       "      <td>hiệp an, kinh môn, hải dương</td>\n",
       "      <td>0.0</td>\n",
       "      <td>hiệp an, kinh môn, hải dương</td>\n",
       "      <td>0.0</td>\n",
       "    </tr>\n",
       "    <tr>\n",
       "      <th>4</th>\n",
       "      <td>16323100_01239962428_CMND_MatTruoc.json</td>\n",
       "      <td>16323100_01239962428_CMND_MatTruoc.jpg</td>\n",
       "      <td>ngách 1/6 Gia Tổ 1 Đức Giang Long Biên Hà Nôi</td>\n",
       "      <td>Nam Sách Hải Dương 21 Ngô Tự</td>\n",
       "      <td>21 NGÁCH 1/6 NGÔ GIA TỰ TỔ 1, ĐỨC GIANG, LONG ...</td>\n",
       "      <td>NAM SÁCH, HẢI DƯƠNG, NGÁCH 1/6</td>\n",
       "      <td>nam sách hải dương ngách 1/6</td>\n",
       "      <td>21 ngách 1/6 ngô gia tự tổ 1 đức giang long bi...</td>\n",
       "      <td>21 ngách 1/6 ngô gia tự tổ 1, đức giang, long ...</td>\n",
       "      <td>0.0</td>\n",
       "      <td>nam sách hải dương ngách 1/6</td>\n",
       "      <td>-1.0</td>\n",
       "    </tr>\n",
       "  </tbody>\n",
       "</table>\n",
       "</div>"
      ],
      "text/plain": [
       "                                 json_file  \\\n",
       "0  16322705_01667047392_CMND_MatTruoc.json   \n",
       "1  16322933_01658907956_CMND_MatTruoc.json   \n",
       "2  16322933_01664137516_CMND_MatTruoc.json   \n",
       "3  16323090_01654308069_CMND_MatTruoc.json   \n",
       "4  16323100_01239962428_CMND_MatTruoc.json   \n",
       "\n",
       "                               image_file  \\\n",
       "0  16322705_01667047392_CMND_MatTruoc.jpg   \n",
       "1  16322933_01658907956_CMND_MatTruoc.jpg   \n",
       "2  16322933_01664137516_CMND_MatTruoc.jpg   \n",
       "3  16323090_01654308069_CMND_MatTruoc.jpg   \n",
       "4  16323100_01239962428_CMND_MatTruoc.jpg   \n",
       "\n",
       "                                          gt_address  \\\n",
       "0  6 c/c 31 33 Phan Huy Ích Phường 15 Tân Bình TP...   \n",
       "1                       Hiệp An Kinh Môn Hải Dương   \n",
       "2                   Hiệp  An  Kinh  Môn  Hải  Dương    \n",
       "3                         Hiệp An Kinh Môn Hải Dương   \n",
       "4      ngách 1/6 Gia Tổ 1 Đức Giang Long Biên Hà Nôi   \n",
       "\n",
       "                                 gt_home  \\\n",
       "0                Cự Khê Thanh Oai Hà Nội   \n",
       "1           Hiệp An Kinh Môn Hải Dương   \n",
       "2  Nam  Hiệp  An  Kinh  Môn  Hải  Dương    \n",
       "3             Hiệp An Kinh Môn Hải Dương   \n",
       "4           Nam Sách Hải Dương 21 Ngô Tự   \n",
       "\n",
       "                                          pd_address  \\\n",
       "0  6 C2 C/C 31 33 PHAN, HUY ÍCH PHƯỜNG 15, TÂN BÌ...   \n",
       "1                       HIỆP AN, KINH MÔN, HẢI DƯƠNG   \n",
       "2                       HIỆP AN, KINH MÔN, HẢI DƯƠNG   \n",
       "3                       HIỆP AN, KINH MÔN, HẢI DƯƠNG   \n",
       "4  21 NGÁCH 1/6 NGÔ GIA TỰ TỔ 1, ĐỨC GIANG, LONG ...   \n",
       "\n",
       "                          pd_home                  pd_home_norm  \\\n",
       "0       CỰ KHÊ, THANH OAI, HÀ NỘI       cự khê thanh oai hà nội   \n",
       "1    HIỆP AN, KINH MÔN, HẢI DƯƠNG    hiệp an kinh môn hải dương   \n",
       "2    HIỆP AN, KINH MÔN, HẢI DƯƠNG    hiệp an kinh môn hải dương   \n",
       "3    HIỆP AN, KINH MÔN, HẢI DƯƠNG    hiệp an kinh môn hải dương   \n",
       "4  NAM SÁCH, HẢI DƯƠNG, NGÁCH 1/6  nam sách hải dương ngách 1/6   \n",
       "\n",
       "                                     pd_address_norm  \\\n",
       "0  6 c2 c/c 31 33 phan huy ích phường 15 tân bình...   \n",
       "1                         hiệp an kinh môn hải dương   \n",
       "2                         hiệp an kinh môn hải dương   \n",
       "3                         hiệp an kinh môn hải dương   \n",
       "4  21 ngách 1/6 ngô gia tự tổ 1 đức giang long bi...   \n",
       "\n",
       "                                  correct_pd_address  \\\n",
       "0  6 c2 c/c 31 33 phan huy ích, phường 15, tân bì...   \n",
       "1                       hiệp an, kinh môn, hải dương   \n",
       "2                       hiệp an, kinh môn, hải dương   \n",
       "3                       hiệp an, kinh môn, hải dương   \n",
       "4  21 ngách 1/6 ngô gia tự tổ 1, đức giang, long ...   \n",
       "\n",
       "   correct_pd_address_distance               correct_pd_home  \\\n",
       "0                          0.0     cự khê, thanh oai, hà nội   \n",
       "1                          0.0  hiệp an, kinh môn, hải dương   \n",
       "2                          0.0  hiệp an, kinh môn, hải dương   \n",
       "3                          0.0  hiệp an, kinh môn, hải dương   \n",
       "4                          0.0  nam sách hải dương ngách 1/6   \n",
       "\n",
       "   correct_pd_home_distance  \n",
       "0                       0.0  \n",
       "1                       0.0  \n",
       "2                       0.0  \n",
       "3                       0.0  \n",
       "4                      -1.0  "
      ]
     },
     "execution_count": 11,
     "metadata": {},
     "output_type": "execute_result"
    }
   ],
   "source": [
    "df.head()"
   ]
  },
  {
   "cell_type": "code",
   "execution_count": 12,
   "metadata": {
    "scrolled": true
   },
   "outputs": [],
   "source": [
    "false_address_df = df[df['correct_pd_address_distance'] != 0]"
   ]
  },
  {
   "cell_type": "code",
   "execution_count": 13,
   "metadata": {},
   "outputs": [
    {
     "data": {
      "text/plain": [
       "1703"
      ]
     },
     "execution_count": 13,
     "metadata": {},
     "output_type": "execute_result"
    }
   ],
   "source": [
    "len(false_address_df)"
   ]
  },
  {
   "cell_type": "code",
   "execution_count": 14,
   "metadata": {
    "scrolled": true
   },
   "outputs": [],
   "source": [
    "false_address_df[['pd_address', 'correct_pd_address_distance', 'correct_pd_address']].to_csv('./address_correct.csv')"
   ]
  },
  {
   "cell_type": "code",
   "execution_count": 15,
   "metadata": {},
   "outputs": [],
   "source": [
    "false_home_df = df[df['correct_pd_home_distance'] != 0]"
   ]
  },
  {
   "cell_type": "code",
   "execution_count": 16,
   "metadata": {},
   "outputs": [],
   "source": [
    "false_home_df.to_csv('./home_correct.csv')"
   ]
  },
  {
   "cell_type": "code",
   "execution_count": 20,
   "metadata": {},
   "outputs": [
    {
     "data": {
      "text/plain": [
       "True"
      ]
     },
     "execution_count": 20,
     "metadata": {},
     "output_type": "execute_result"
    }
   ],
   "source": [
    "'văn điển, thanh trì, hà nội' == 'văn điển, thanh trì, hà nội'"
   ]
  },
  {
   "cell_type": "code",
   "execution_count": 28,
   "metadata": {},
   "outputs": [
    {
     "data": {
      "text/plain": [
       "json_file                                  1719197_0934052195_CMND_MatTruoc.json\n",
       "image_file                                  1719197_0934052195_CMND_MatTruoc.jpg\n",
       "gt_address                     Lô 7/53 KĐT Hòa Vượng Thành phố Nam Định Nam Định\n",
       "gt_home                                          Thọ Nghiệp Xuân Trường Nam Định\n",
       "pd_address                     LÔ 7/53 KĐT HÒA VƯỢNG THÀNH PHỐ NAM ĐỊNH, LAM ...\n",
       "pd_home                                        THỌ NGHIỆP, XUÂN TRƯỜNG, NAM ĐỊNH\n",
       "pd_home_norm                                     thọ nghiệp xuân trường nam định\n",
       "pd_address_norm                lô 7/53 kđt hòa vượng thành phố nam định lam định\n",
       "correct_pd_address             lô 7/53 kđt, lộc vượng, thành phố nam định, na...\n",
       "correct_pd_address_distance                                                  2.3\n",
       "correct_pd_home                                thọ nghiệp, xuân trường, nam định\n",
       "correct_pd_home_distance                                                       0\n",
       "Name: 1926, dtype: object"
      ]
     },
     "execution_count": 28,
     "metadata": {},
     "output_type": "execute_result"
    }
   ],
   "source": [
    "df.iloc[1926]"
   ]
  },
  {
   "cell_type": "code",
   "execution_count": 11,
   "metadata": {},
   "outputs": [],
   "source": [
    "# false_df = df[df['pd_address_norm'] != df['gt_address_norm']]\n",
    "false_df = df[df['pd_home_norm'] != df['gt_home_norm']]"
   ]
  },
  {
   "cell_type": "code",
   "execution_count": 12,
   "metadata": {},
   "outputs": [],
   "source": [
    "false_df = false_df[['image_file', 'pd_home_norm', 'gt_home_norm']]"
   ]
  },
  {
   "cell_type": "code",
   "execution_count": 13,
   "metadata": {
    "scrolled": true
   },
   "outputs": [
    {
     "data": {
      "text/html": [
       "<div>\n",
       "<style scoped>\n",
       "    .dataframe tbody tr th:only-of-type {\n",
       "        vertical-align: middle;\n",
       "    }\n",
       "\n",
       "    .dataframe tbody tr th {\n",
       "        vertical-align: top;\n",
       "    }\n",
       "\n",
       "    .dataframe thead th {\n",
       "        text-align: right;\n",
       "    }\n",
       "</style>\n",
       "<table border=\"1\" class=\"dataframe\">\n",
       "  <thead>\n",
       "    <tr style=\"text-align: right;\">\n",
       "      <th></th>\n",
       "      <th>image_file</th>\n",
       "      <th>pd_home_norm</th>\n",
       "      <th>gt_home_norm</th>\n",
       "    </tr>\n",
       "  </thead>\n",
       "  <tbody>\n",
       "    <tr>\n",
       "      <th>1182</th>\n",
       "      <td>2040747_0927440332_CMND_MatTruoc.jpg</td>\n",
       "      <td>đại hà kiến thụy hải phòng</td>\n",
       "      <td>đại hà</td>\n",
       "    </tr>\n",
       "    <tr>\n",
       "      <th>6123</th>\n",
       "      <td>16796309_0971070684_CMND_MatTruoc.jpg</td>\n",
       "      <td>đại hà kiến thụy hải phòng</td>\n",
       "      <td>nam đại hà kiến thuỵ</td>\n",
       "    </tr>\n",
       "  </tbody>\n",
       "</table>\n",
       "</div>"
      ],
      "text/plain": [
       "                                 image_file                pd_home_norm  \\\n",
       "1182   2040747_0927440332_CMND_MatTruoc.jpg  đại hà kiến thụy hải phòng   \n",
       "6123  16796309_0971070684_CMND_MatTruoc.jpg  đại hà kiến thụy hải phòng   \n",
       "\n",
       "              gt_home_norm  \n",
       "1182                đại hà  \n",
       "6123  nam đại hà kiến thuỵ  "
      ]
     },
     "execution_count": 13,
     "metadata": {},
     "output_type": "execute_result"
    }
   ],
   "source": [
    "false_df[false_df['pd_home_norm'] == 'đại hà kiến thụy hải phòng']"
   ]
  },
  {
   "cell_type": "code",
   "execution_count": 121,
   "metadata": {},
   "outputs": [],
   "source": [
    "data_path = '/media/trivu/data/DataScience/CV/CMT_data/reg+json+ID_images/'"
   ]
  },
  {
   "cell_type": "code",
   "execution_count": 30,
   "metadata": {},
   "outputs": [
    {
     "data": {
      "text/plain": [
       "<matplotlib.image.AxesImage at 0x7f59472cf0b8>"
      ]
     },
     "execution_count": 30,
     "metadata": {},
     "output_type": "execute_result"
    }
   ],
   "source": [
    "img = imageio.imread('/media/trivu/data/DataScience/CV/CMT_data/reg+json+ID_images/tagme_jpg/1719197_0934052195_CMND_MatTruoc.jpg')\n",
    "plt.imshow(img)"
   ]
  },
  {
   "cell_type": "code",
   "execution_count": 46,
   "metadata": {
    "scrolled": true
   },
   "outputs": [],
   "source": [
    "row = false_df.iloc[false_df.index == 1789]\n",
    "# x = row.iloc[0]['gt_address_norm']\n",
    "# y = row.iloc[0]['pd_address_norm']\n",
    "x = row.iloc[0]['gt_home_norm']\n",
    "y = row.iloc[0]['pd_home_norm']"
   ]
  }
 ],
 "metadata": {
  "kernelspec": {
   "display_name": "Python 3",
   "language": "python",
   "name": "python3"
  },
  "language_info": {
   "codemirror_mode": {
    "name": "ipython",
    "version": 3
   },
   "file_extension": ".py",
   "mimetype": "text/x-python",
   "name": "python",
   "nbconvert_exporter": "python",
   "pygments_lexer": "ipython3",
   "version": "3.6.5"
  }
 },
 "nbformat": 4,
 "nbformat_minor": 2
}
