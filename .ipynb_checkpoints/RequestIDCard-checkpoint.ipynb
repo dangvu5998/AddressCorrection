{
 "cells": [
  {
   "cell_type": "code",
   "execution_count": 66,
   "metadata": {},
   "outputs": [
    {
     "name": "stdout",
     "output_type": "stream",
     "text": [
      "Using matplotlib backend: Qt5Agg\n"
     ]
    }
   ],
   "source": [
    "%matplotlib\n",
    "import requests\n",
    "import json\n",
    "import imageio\n",
    "import matplotlib.pyplot as plt\n",
    "import csv\n",
    "import os"
   ]
  },
  {
   "cell_type": "code",
   "execution_count": 50,
   "metadata": {},
   "outputs": [],
   "source": [
    "url = 'http://10.3.9.222:5001'"
   ]
  },
  {
   "cell_type": "code",
   "execution_count": 62,
   "metadata": {},
   "outputs": [],
   "source": [
    "files = {'image': open('/media/trivu/data/DataScience/CV/CMT_data/reg+json+ID_images/tagme_jpg/14891255_01237755023_CMND_MatTruoc.jpg', 'rb')}"
   ]
  },
  {
   "cell_type": "code",
   "execution_count": 63,
   "metadata": {},
   "outputs": [],
   "source": [
    "r = requests.post(url, files=files)"
   ]
  },
  {
   "cell_type": "code",
   "execution_count": 64,
   "metadata": {},
   "outputs": [
    {
     "data": {
      "text/plain": [
       "{'errorCode': 0,\n",
       " 'errorMessage': '',\n",
       " 'data': [{'id': '038094005723',\n",
       "   'id_prob': '99.99',\n",
       "   'name': 'VI VĂN NAM',\n",
       "   'name_prob': '99.83 99.67 99.80 ',\n",
       "   'dob': '16/09/1994',\n",
       "   'dob_prob': '100.00',\n",
       "   'sex': 'NAM',\n",
       "   'sex_prob': '26.02',\n",
       "   'nationality': 'VIỆT NAM',\n",
       "   'nationality_prob': '21.11',\n",
       "   'home': 'THÔN CHIỀNG LAU BAN CÔNG, BÁ THƯỚC, THANH HÓA',\n",
       "   'home_prob': '0.01',\n",
       "   'address': 'ĐỘI 8 THÔN CHIỀNG LAU BAN CÔNG, BÁ THƯỚC, THANH HÓA',\n",
       "   'address_prob': '0.00',\n",
       "   'doe': '16/09/2034',\n",
       "   'doe_prob': '100.00'}]}"
      ]
     },
     "execution_count": 64,
     "metadata": {},
     "output_type": "execute_result"
    }
   ],
   "source": [
    "r.json()"
   ]
  },
  {
   "cell_type": "code",
   "execution_count": 32,
   "metadata": {},
   "outputs": [],
   "source": [
    "img = imageio.imread('/media/trivu/data/DataScience/CV/CMT_data/reg+json+ID_images/tagme_jpg/14890542_0928813614_CMND_MatTruoc.jpg')\n"
   ]
  },
  {
   "cell_type": "code",
   "execution_count": 33,
   "metadata": {},
   "outputs": [
    {
     "data": {
      "text/plain": [
       "<matplotlib.image.AxesImage at 0x7f641406d0f0>"
      ]
     },
     "execution_count": 33,
     "metadata": {},
     "output_type": "execute_result"
    }
   ],
   "source": [
    "plt.imshow(img)"
   ]
  },
  {
   "cell_type": "code",
   "execution_count": 45,
   "metadata": {},
   "outputs": [],
   "source": [
    "f = open('/media/trivu/data/DataScience/CV/CMT_data/reg+json+ID_images/json/12762957_01234361233_CMND_MatTruoc.json', 'rb')\n",
    "data = json.load(f)"
   ]
  },
  {
   "cell_type": "code",
   "execution_count": 58,
   "metadata": {
    "scrolled": true
   },
   "outputs": [
    {
     "data": {
      "text/plain": [
       "{'file': '12762957_01234361233_CMND_MatTruoc.jpg',\n",
       " 'ID': [{'label': '030086003906',\n",
       "   'box': {'name': 'rect', 'x': 364, 'y': 129, 'width': 337, 'height': 51}}],\n",
       " 'name': [{'label': 'ĐẶNG',\n",
       "   'box': {'name': 'rect', 'x': 399, 'y': 217, 'width': 87, 'height': 33}},\n",
       "  {'label': 'VĂN',\n",
       "   'box': {'name': 'rect', 'x': 489, 'y': 217, 'width': 58, 'height': 32}},\n",
       "  {'label': 'THÀNH',\n",
       "   'box': {'name': 'rect', 'x': 553, 'y': 214, 'width': 99, 'height': 33}}],\n",
       " 'DOB': [{'label': '07/04/1986',\n",
       "   'box': {'name': 'rect', 'x': 478, 'y': 263, 'width': 143, 'height': 35}}],\n",
       " 'doe': [{'label': '07/04/2026',\n",
       "   'box': {'name': 'rect', 'x': 175, 'y': 471, 'width': 115, 'height': 25}}],\n",
       " 'reis': [{'label': 'Việt',\n",
       "   'box': {'name': 'rect', 'x': 588, 'y': 308, 'width': 50, 'height': 31}},\n",
       "  {'label': 'Nam',\n",
       "   'box': {'name': 'rect', 'x': 643, 'y': 311, 'width': 59, 'height': 27}}],\n",
       " 'sex': [{'label': 'Nam',\n",
       "   'box': {'name': 'rect', 'x': 355, 'y': 310, 'width': 65, 'height': 29}}],\n",
       " 'home': [{'label': 'Thượng',\n",
       "   'box': {'name': 'rect', 'x': 371, 'y': 355, 'width': 102, 'height': 33}},\n",
       "  {'label': 'Quận',\n",
       "   'box': {'name': 'rect', 'x': 477, 'y': 359, 'width': 68, 'height': 28}},\n",
       "  {'label': 'Kinh',\n",
       "   'box': {'name': 'rect', 'x': 551, 'y': 358, 'width': 59, 'height': 27}},\n",
       "  {'label': 'Môn',\n",
       "   'box': {'name': 'rect', 'x': 611, 'y': 358, 'width': 58, 'height': 28}},\n",
       "  {'label': 'Hải',\n",
       "   'box': {'name': 'rect', 'x': 471, 'y': 387, 'width': 43, 'height': 23}},\n",
       "  {'label': 'Dương',\n",
       "   'box': {'name': 'rect', 'x': 516, 'y': 387, 'width': 90, 'height': 29}}],\n",
       " 'address': [{'label': 'Thượng',\n",
       "   'box': {'name': 'rect', 'x': 412, 'y': 420, 'width': 102, 'height': 33}},\n",
       "  {'label': 'Quận',\n",
       "   'box': {'name': 'rect', 'x': 515, 'y': 420, 'width': 68, 'height': 28}},\n",
       "  {'label': 'Kinh',\n",
       "   'box': {'name': 'rect', 'x': 590, 'y': 418, 'width': 59, 'height': 27}},\n",
       "  {'label': 'Môn',\n",
       "   'box': {'name': 'rect', 'x': 654, 'y': 419, 'width': 58, 'height': 28}},\n",
       "  {'label': 'Hải',\n",
       "   'box': {'name': 'rect', 'x': 466, 'y': 458, 'width': 43, 'height': 23}},\n",
       "  {'label': 'Dương',\n",
       "   'box': {'name': 'rect', 'x': 513, 'y': 456, 'width': 90, 'height': 29}}]}"
      ]
     },
     "execution_count": 58,
     "metadata": {},
     "output_type": "execute_result"
    }
   ],
   "source": [
    "data"
   ]
  },
  {
   "cell_type": "code",
   "execution_count": 40,
   "metadata": {},
   "outputs": [
    {
     "data": {
      "text/plain": [
       "'Thượng Quận Kinh Môn Hải Dương'"
      ]
     },
     "execution_count": 40,
     "metadata": {},
     "output_type": "execute_result"
    }
   ],
   "source": [
    "address"
   ]
  },
  {
   "cell_type": "code",
   "execution_count": 67,
   "metadata": {},
   "outputs": [],
   "source": [
    "data_path = '/media/trivu/data/DataScience/CV/CMT_data/reg+json+ID_images/'"
   ]
  },
  {
   "cell_type": "code",
   "execution_count": 59,
   "metadata": {},
   "outputs": [],
   "source": [
    "def get_data(filepath):\n",
    "    f = open(filepath, 'rb')\n",
    "    data = json.load(f)\n",
    "    f.close()\n",
    "    result = {}\n",
    "    address_labels = []\n",
    "    for label in data['address']:\n",
    "        label = label['label']\n",
    "        address_labels.append(label)\n",
    "    address = ' '.join(address_labels)   \n",
    "    result['gt_address'] = address\n",
    "    home_labels = []\n",
    "    for label in data['home']:\n",
    "        label = label['label']\n",
    "        home_labels.append(label)\n",
    "    home = ' '.join(home_labels)   \n",
    "    result['gt_home'] = home\n",
    "    result['image_file'] = data['file']\n",
    "    return result"
   ]
  },
  {
   "cell_type": "code",
   "execution_count": 65,
   "metadata": {},
   "outputs": [],
   "source": [
    "output_file = 'address_benchmark.csv'"
   ]
  },
  {
   "cell_type": "code",
   "execution_count": 76,
   "metadata": {},
   "outputs": [],
   "source": [
    "json_fns = os.listdir(os.path.join(data_path, 'json'))[:500]"
   ]
  },
  {
   "cell_type": "code",
   "execution_count": 77,
   "metadata": {
    "scrolled": true
   },
   "outputs": [
    {
     "name": "stdout",
     "output_type": "stream",
     "text": [
      "1\n",
      "2\n",
      "3\n",
      "4\n",
      "5\n",
      "6\n",
      "7\n",
      "8\n",
      "9\n",
      "10\n",
      "11\n",
      "12\n",
      "13\n",
      "14\n",
      "15\n",
      "16\n",
      "17\n",
      "18\n",
      "19\n",
      "20\n",
      "21\n",
      "22\n",
      "23\n",
      "24\n",
      "25\n",
      "26\n",
      "27\n",
      "28\n",
      "29\n",
      "30\n",
      "31\n",
      "32\n",
      "33\n",
      "34\n",
      "35\n",
      "36\n",
      "37\n",
      "38\n",
      "39\n",
      "40\n",
      "41\n",
      "42\n",
      "43\n",
      "44\n",
      "45\n",
      "46\n",
      "47\n",
      "48\n",
      "49\n",
      "50\n"
     ]
    },
    {
     "ename": "FileNotFoundError",
     "evalue": "[Errno 2] No such file or directory: '/media/trivu/data/DataScience/CV/CMT_data/reg+json+ID_images/tagme_jpg/16941257_01652978982_CMND_MatTruoc.jpg'",
     "output_type": "error",
     "traceback": [
      "\u001b[0;31m---------------------------------------------------------------------------\u001b[0m",
      "\u001b[0;31mFileNotFoundError\u001b[0m                         Traceback (most recent call last)",
      "\u001b[0;32m<ipython-input-77-2b438a6658c6>\u001b[0m in \u001b[0;36m<module>\u001b[0;34m()\u001b[0m\n\u001b[1;32m      9\u001b[0m         \u001b[0mprint\u001b[0m\u001b[0;34m(\u001b[0m\u001b[0mi\u001b[0m\u001b[0;34m)\u001b[0m\u001b[0;34m\u001b[0m\u001b[0m\n\u001b[1;32m     10\u001b[0m         \u001b[0mresult\u001b[0m \u001b[0;34m=\u001b[0m \u001b[0mget_data\u001b[0m\u001b[0;34m(\u001b[0m\u001b[0mos\u001b[0m\u001b[0;34m.\u001b[0m\u001b[0mpath\u001b[0m\u001b[0;34m.\u001b[0m\u001b[0mjoin\u001b[0m\u001b[0;34m(\u001b[0m\u001b[0mdata_path\u001b[0m\u001b[0;34m,\u001b[0m \u001b[0;34m'json'\u001b[0m\u001b[0;34m,\u001b[0m \u001b[0mjson_fn\u001b[0m\u001b[0;34m)\u001b[0m\u001b[0;34m)\u001b[0m\u001b[0;34m\u001b[0m\u001b[0m\n\u001b[0;32m---> 11\u001b[0;31m         \u001b[0mfile\u001b[0m \u001b[0;34m=\u001b[0m \u001b[0;34m{\u001b[0m\u001b[0;34m'image'\u001b[0m\u001b[0;34m:\u001b[0m \u001b[0mopen\u001b[0m\u001b[0;34m(\u001b[0m\u001b[0mos\u001b[0m\u001b[0;34m.\u001b[0m\u001b[0mpath\u001b[0m\u001b[0;34m.\u001b[0m\u001b[0mjoin\u001b[0m\u001b[0;34m(\u001b[0m\u001b[0mdata_path\u001b[0m\u001b[0;34m,\u001b[0m \u001b[0;34m'tagme_jpg'\u001b[0m\u001b[0;34m,\u001b[0m \u001b[0mresult\u001b[0m\u001b[0;34m[\u001b[0m\u001b[0;34m'file'\u001b[0m\u001b[0;34m]\u001b[0m\u001b[0;34m)\u001b[0m\u001b[0;34m,\u001b[0m \u001b[0;34m'rb'\u001b[0m\u001b[0;34m)\u001b[0m\u001b[0;34m}\u001b[0m\u001b[0;34m\u001b[0m\u001b[0m\n\u001b[0m\u001b[1;32m     12\u001b[0m         \u001b[0mr\u001b[0m \u001b[0;34m=\u001b[0m \u001b[0mrequests\u001b[0m\u001b[0;34m.\u001b[0m\u001b[0mpost\u001b[0m\u001b[0;34m(\u001b[0m\u001b[0murl\u001b[0m\u001b[0;34m,\u001b[0m \u001b[0mfiles\u001b[0m\u001b[0;34m=\u001b[0m\u001b[0mfile\u001b[0m\u001b[0;34m)\u001b[0m\u001b[0;34m\u001b[0m\u001b[0m\n\u001b[1;32m     13\u001b[0m         \u001b[0mres\u001b[0m \u001b[0;34m=\u001b[0m \u001b[0mr\u001b[0m\u001b[0;34m.\u001b[0m\u001b[0mjson\u001b[0m\u001b[0;34m(\u001b[0m\u001b[0;34m)\u001b[0m\u001b[0;34m\u001b[0m\u001b[0m\n",
      "\u001b[0;31mFileNotFoundError\u001b[0m: [Errno 2] No such file or directory: '/media/trivu/data/DataScience/CV/CMT_data/reg+json+ID_images/tagme_jpg/16941257_01652978982_CMND_MatTruoc.jpg'"
     ]
    }
   ],
   "source": [
    "i = 0\n",
    "with open(output_file, 'w', newline='') as csvfile:\n",
    "    fieldnames = ['json_file', 'image_file', 'gt_address', 'gt_home', 'pd_address', 'pd_home']\n",
    "    writer = csv.DictWriter(csvfile, fieldnames=fieldnames)\n",
    "    \n",
    "    writer.writeheader()\n",
    "    for json_fn in json_fns:\n",
    "        i += 1\n",
    "        print(i)\n",
    "        try:\n",
    "            result = get_data(os.path.join(data_path, 'json', json_fn))\n",
    "            file = {'image': open(os.path.join(data_path, 'tagme_jpg', result['file']), 'rb')}\n",
    "            r = requests.post(url, files=file)\n",
    "            res = r.json()\n",
    "            data = res['data'][0]\n",
    "            result['pd_address'] = data['address']\n",
    "            result['pd_home'] = data['home']\n",
    "            writer.writerow(result)\n",
    "        except Exception as e:\n",
    "            print('error:', str(e))"
   ]
  },
  {
   "cell_type": "code",
   "execution_count": 61,
   "metadata": {},
   "outputs": [
    {
     "data": {
      "text/plain": [
       "{'gt_address': 'Đội 8 Thôn Chiềng Lau Ban Công Bá Thước Thanh Hóa',\n",
       " 'gt_home': 'Thôn Chiềng Lau Ban Công Bá Thước Thanh Hóa',\n",
       " 'file': '14891255_01237755023_CMND_MatTruoc.jpg'}"
      ]
     },
     "execution_count": 61,
     "metadata": {},
     "output_type": "execute_result"
    }
   ],
   "source": [
    "get_data('/media/trivu/data/DataScience/CV/CMT_data/reg+json+ID_images/json/14891255_01237755023_CMND_MatTruoc.json')"
   ]
  }
 ],
 "metadata": {
  "kernelspec": {
   "display_name": "Python 3",
   "language": "python",
   "name": "python3"
  },
  "language_info": {
   "codemirror_mode": {
    "name": "ipython",
    "version": 3
   },
   "file_extension": ".py",
   "mimetype": "text/x-python",
   "name": "python",
   "nbconvert_exporter": "python",
   "pygments_lexer": "ipython3",
   "version": "3.6.5"
  }
 },
 "nbformat": 4,
 "nbformat_minor": 2
}
