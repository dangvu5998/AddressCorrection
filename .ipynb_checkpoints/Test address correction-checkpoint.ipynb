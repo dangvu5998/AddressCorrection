{
 "cells": [
  {
   "cell_type": "code",
   "execution_count": 4,
   "metadata": {},
   "outputs": [],
   "source": [
    "from src.address_correction import AddressCorrection"
   ]
  },
  {
   "cell_type": "code",
   "execution_count": 7,
   "metadata": {},
   "outputs": [],
   "source": [
    "address_correction = AddressCorrection('./src/data/cost_char_dict.txt', './src/data/provinces.txt', './src/data/districts.txt', './src/data/wards.txt')"
   ]
  },
  {
   "cell_type": "code",
   "execution_count": 9,
   "metadata": {
    "scrolled": true
   },
   "outputs": [
    {
     "name": "stdout",
     "output_type": "stream",
     "text": [
      "tiền giang\n",
      "[(None, 4), (None, 4), (None, 4)]\n",
      "[('cai lậy', 3), (None, 4), (None, 4)]\n",
      "[('cai lậy', 0), ('cái bè', 2.9000000000000004), (None, 4)]\n",
      "[(None, 4), (None, 4), (None, 4)]\n",
      "kiên giang\n",
      "[(None, 4), (None, 4), (None, 4)]\n",
      "[(None, 4), (None, 4), (None, 4)]\n",
      "[(None, 4), (None, 4), (None, 4)]\n",
      "[(None, 4), (None, 4), (None, 4)]\n"
     ]
    },
    {
     "data": {
      "text/plain": [
       "('thị, P5, cai lậy, tiền giang', 1.6)"
      ]
     },
     "execution_count": 9,
     "metadata": {},
     "output_type": "execute_result"
    }
   ],
   "source": [
    "address_correction.address_correction('thị xã cai lậy tiền giang'.lower())"
   ]
  },
  {
   "cell_type": "code",
   "execution_count": null,
   "metadata": {},
   "outputs": [],
   "source": []
  }
 ],
 "metadata": {
  "kernelspec": {
   "display_name": "Python 3",
   "language": "python",
   "name": "python3"
  },
  "language_info": {
   "codemirror_mode": {
    "name": "ipython",
    "version": 3
   },
   "file_extension": ".py",
   "mimetype": "text/x-python",
   "name": "python",
   "nbconvert_exporter": "python",
   "pygments_lexer": "ipython3",
   "version": "3.6.5"
  }
 },
 "nbformat": 4,
 "nbformat_minor": 2
}
