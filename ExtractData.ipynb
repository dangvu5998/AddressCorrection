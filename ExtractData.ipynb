{
 "cells": [
  {
   "cell_type": "code",
   "execution_count": 1,
   "metadata": {},
   "outputs": [],
   "source": [
    "import pandas as pd"
   ]
  },
  {
   "cell_type": "code",
   "execution_count": 2,
   "metadata": {},
   "outputs": [],
   "source": [
    "import numpy as np"
   ]
  },
  {
   "cell_type": "code",
   "execution_count": 3,
   "metadata": {},
   "outputs": [
    {
     "name": "stdout",
     "output_type": "stream",
     "text": [
      "WARNING *** file size (2573784) not 512 + multiple of sector size (512)\n"
     ]
    }
   ],
   "source": [
    "df = pd.read_excel('./Danh sách cấp tỉnh kèm theo quận huyện phường xã.xls')"
   ]
  },
  {
   "cell_type": "code",
   "execution_count": 4,
   "metadata": {},
   "outputs": [],
   "source": [
    "tinh_tp_set = set(df['Tỉnh Thành Phố'])"
   ]
  },
  {
   "cell_type": "code",
   "execution_count": 5,
   "metadata": {},
   "outputs": [],
   "source": [
    "def spelling_correction(phrase):\n",
    "    # fix uỵ\n",
    "    i = phrase.find('uỵ')\n",
    "    if i != -1:\n",
    "        phrase = phrase[:i] + 'ụy' + phrase[i+2:]\n",
    "    i = phrase.find('oà')\n",
    "    if i != -1 and (i + 2 == len(phrase) or phrase[i + 2].isspace()):\n",
    "        phrase = phrase[:i] + 'òa' + phrase[i+2:]\n",
    "    i = phrase.find('uỷ')\n",
    "    if i != -1:\n",
    "        phrase = phrase[:i] + 'ủy' + phrase[i+2:]\n",
    "    return phrase"
   ]
  },
  {
   "cell_type": "code",
   "execution_count": 6,
   "metadata": {},
   "outputs": [],
   "source": [
    "def tinh_tp_normalize(tinh_tp):\n",
    "    if not isinstance(tinh_tp, str):\n",
    "        return np.nan\n",
    "    if tinh_tp == 'Tỉnh Bà Rịa - Vũng Tàu':\n",
    "        return 'bà rịa vũng tàu|bà rịa|vũng tàu'\n",
    "    tinh_tp = spelling_correction(tinh_tp)\n",
    "    if tinh_tp.startswith('Tỉnh'):\n",
    "        return tinh_tp[4:].strip().lower()\n",
    "    elif tinh_tp.startswith('Thành phố'):\n",
    "        return tinh_tp[9:].strip().lower()\n",
    "    else:\n",
    "        return tinh_tp.strip().lower()"
   ]
  },
  {
   "cell_type": "code",
   "execution_count": 7,
   "metadata": {},
   "outputs": [],
   "source": [
    "df['Tỉnh Thành Phố Normalized'] = df['Tỉnh Thành Phố'].apply(tinh_tp_normalize)"
   ]
  },
  {
   "cell_type": "code",
   "execution_count": 8,
   "metadata": {},
   "outputs": [],
   "source": [
    "tinh_tp_normalized_set = set()"
   ]
  },
  {
   "cell_type": "code",
   "execution_count": 9,
   "metadata": {},
   "outputs": [],
   "source": [
    "for tinh_tp in df['Tỉnh Thành Phố Normalized']:\n",
    "    tinh_tp_normalized_set.add(tinh_tp)"
   ]
  },
  {
   "cell_type": "code",
   "execution_count": 10,
   "metadata": {},
   "outputs": [],
   "source": [
    "tinh_tp_normalized_set.add('bà rịa')\n",
    "tinh_tp_normalized_set.add('vũng tàu')\n",
    "tinh_tp_normalized_set.discard('')"
   ]
  },
  {
   "cell_type": "code",
   "execution_count": 11,
   "metadata": {},
   "outputs": [],
   "source": [
    "with open('./src/data/provinces.txt', 'w') as f:\n",
    "    for tinh_tp in tinh_tp_normalized_set:\n",
    "        f.write(tinh_tp + '\\n')"
   ]
  },
  {
   "cell_type": "code",
   "execution_count": 12,
   "metadata": {
    "scrolled": true
   },
   "outputs": [
    {
     "data": {
      "text/html": [
       "<div>\n",
       "<style scoped>\n",
       "    .dataframe tbody tr th:only-of-type {\n",
       "        vertical-align: middle;\n",
       "    }\n",
       "\n",
       "    .dataframe tbody tr th {\n",
       "        vertical-align: top;\n",
       "    }\n",
       "\n",
       "    .dataframe thead th {\n",
       "        text-align: right;\n",
       "    }\n",
       "</style>\n",
       "<table border=\"1\" class=\"dataframe\">\n",
       "  <thead>\n",
       "    <tr style=\"text-align: right;\">\n",
       "      <th></th>\n",
       "      <th>Tỉnh Thành Phố</th>\n",
       "      <th>Mã TP</th>\n",
       "      <th>Quận Huyện</th>\n",
       "      <th>Mã QH</th>\n",
       "      <th>Phường Xã</th>\n",
       "      <th>Mã PX</th>\n",
       "      <th>Cấp</th>\n",
       "      <th>Tên Tiếng Anh</th>\n",
       "      <th>Tỉnh Thành Phố Normalized</th>\n",
       "    </tr>\n",
       "  </thead>\n",
       "  <tbody>\n",
       "    <tr>\n",
       "      <th>0</th>\n",
       "      <td>Thành phố Hà Nội</td>\n",
       "      <td>1</td>\n",
       "      <td>Quận Ba Đình</td>\n",
       "      <td>1</td>\n",
       "      <td>Phường Phúc Xá</td>\n",
       "      <td>1</td>\n",
       "      <td>Phường</td>\n",
       "      <td>NaN</td>\n",
       "      <td>hà nội</td>\n",
       "    </tr>\n",
       "    <tr>\n",
       "      <th>1</th>\n",
       "      <td>Thành phố Hà Nội</td>\n",
       "      <td>1</td>\n",
       "      <td>Quận Ba Đình</td>\n",
       "      <td>1</td>\n",
       "      <td>Phường Trúc Bạch</td>\n",
       "      <td>4</td>\n",
       "      <td>Phường</td>\n",
       "      <td>NaN</td>\n",
       "      <td>hà nội</td>\n",
       "    </tr>\n",
       "    <tr>\n",
       "      <th>2</th>\n",
       "      <td>Thành phố Hà Nội</td>\n",
       "      <td>1</td>\n",
       "      <td>Quận Ba Đình</td>\n",
       "      <td>1</td>\n",
       "      <td>Phường Vĩnh Phúc</td>\n",
       "      <td>6</td>\n",
       "      <td>Phường</td>\n",
       "      <td>Vinh Phuc Commune</td>\n",
       "      <td>hà nội</td>\n",
       "    </tr>\n",
       "    <tr>\n",
       "      <th>3</th>\n",
       "      <td>Thành phố Hà Nội</td>\n",
       "      <td>1</td>\n",
       "      <td>Quận Ba Đình</td>\n",
       "      <td>1</td>\n",
       "      <td>Phường Cống Vị</td>\n",
       "      <td>7</td>\n",
       "      <td>Phường</td>\n",
       "      <td>NaN</td>\n",
       "      <td>hà nội</td>\n",
       "    </tr>\n",
       "    <tr>\n",
       "      <th>4</th>\n",
       "      <td>Thành phố Hà Nội</td>\n",
       "      <td>1</td>\n",
       "      <td>Quận Ba Đình</td>\n",
       "      <td>1</td>\n",
       "      <td>Phường Liễu Giai</td>\n",
       "      <td>8</td>\n",
       "      <td>Phường</td>\n",
       "      <td>Lieu Giai Commune</td>\n",
       "      <td>hà nội</td>\n",
       "    </tr>\n",
       "  </tbody>\n",
       "</table>\n",
       "</div>"
      ],
      "text/plain": [
       "     Tỉnh Thành Phố  Mã TP    Quận Huyện  Mã QH         Phường Xã  Mã PX  \\\n",
       "0  Thành phố Hà Nội      1  Quận Ba Đình      1    Phường Phúc Xá      1   \n",
       "1  Thành phố Hà Nội      1  Quận Ba Đình      1  Phường Trúc Bạch      4   \n",
       "2  Thành phố Hà Nội      1  Quận Ba Đình      1  Phường Vĩnh Phúc      6   \n",
       "3  Thành phố Hà Nội      1  Quận Ba Đình      1    Phường Cống Vị      7   \n",
       "4  Thành phố Hà Nội      1  Quận Ba Đình      1  Phường Liễu Giai      8   \n",
       "\n",
       "      Cấp      Tên Tiếng Anh Tỉnh Thành Phố Normalized  \n",
       "0  Phường                NaN                    hà nội  \n",
       "1  Phường                NaN                    hà nội  \n",
       "2  Phường  Vinh Phuc Commune                    hà nội  \n",
       "3  Phường                NaN                    hà nội  \n",
       "4  Phường  Lieu Giai Commune                    hà nội  "
      ]
     },
     "execution_count": 12,
     "metadata": {},
     "output_type": "execute_result"
    }
   ],
   "source": [
    "df.head()"
   ]
  },
  {
   "cell_type": "code",
   "execution_count": 13,
   "metadata": {},
   "outputs": [],
   "source": [
    "def quan_huyen_normalize(quan_huyen):\n",
    "    quan_huyen = quan_huyen.lower()\n",
    "    quan_huyen = spelling_correction(quan_huyen)\n",
    "    if quan_huyen.startswith('quận'):\n",
    "        quan_huyen_cut = quan_huyen[4:].strip()\n",
    "        if 'từ liêm' in quan_huyen_cut:\n",
    "            return '{}|{}'.format('từ liêm', quan_huyen_cut)\n",
    "        if quan_huyen_cut.isdigit():\n",
    "            return '{}|{}|{}'.format(quan_huyen, quan_huyen_cut, 'q'+quan_huyen_cut)\n",
    "        return quan_huyen[4:].strip()\n",
    "    elif quan_huyen.startswith('huyện'):\n",
    "        return quan_huyen[5:].strip()\n",
    "    elif quan_huyen.startswith('thành phố'):\n",
    "        return quan_huyen[9:].strip()\n",
    "    elif quan_huyen.startswith('thị xã'):\n",
    "        return quan_huyen[6:].strip()\n",
    "    else:\n",
    "        return quan_huyen"
   ]
  },
  {
   "cell_type": "code",
   "execution_count": 14,
   "metadata": {},
   "outputs": [],
   "source": [
    "df['Quận Huyện Normalized'] = df['Quận Huyện'].apply(quan_huyen_normalize)"
   ]
  },
  {
   "cell_type": "code",
   "execution_count": 15,
   "metadata": {
    "scrolled": true
   },
   "outputs": [
    {
     "data": {
      "text/html": [
       "<div>\n",
       "<style scoped>\n",
       "    .dataframe tbody tr th:only-of-type {\n",
       "        vertical-align: middle;\n",
       "    }\n",
       "\n",
       "    .dataframe tbody tr th {\n",
       "        vertical-align: top;\n",
       "    }\n",
       "\n",
       "    .dataframe thead th {\n",
       "        text-align: right;\n",
       "    }\n",
       "</style>\n",
       "<table border=\"1\" class=\"dataframe\">\n",
       "  <thead>\n",
       "    <tr style=\"text-align: right;\">\n",
       "      <th></th>\n",
       "      <th>Tỉnh Thành Phố</th>\n",
       "      <th>Mã TP</th>\n",
       "      <th>Quận Huyện</th>\n",
       "      <th>Mã QH</th>\n",
       "      <th>Phường Xã</th>\n",
       "      <th>Mã PX</th>\n",
       "      <th>Cấp</th>\n",
       "      <th>Tên Tiếng Anh</th>\n",
       "      <th>Tỉnh Thành Phố Normalized</th>\n",
       "      <th>Quận Huyện Normalized</th>\n",
       "    </tr>\n",
       "  </thead>\n",
       "  <tbody>\n",
       "    <tr>\n",
       "      <th>0</th>\n",
       "      <td>Thành phố Hà Nội</td>\n",
       "      <td>1</td>\n",
       "      <td>Quận Ba Đình</td>\n",
       "      <td>1</td>\n",
       "      <td>Phường Phúc Xá</td>\n",
       "      <td>1</td>\n",
       "      <td>Phường</td>\n",
       "      <td>NaN</td>\n",
       "      <td>hà nội</td>\n",
       "      <td>ba đình</td>\n",
       "    </tr>\n",
       "    <tr>\n",
       "      <th>1</th>\n",
       "      <td>Thành phố Hà Nội</td>\n",
       "      <td>1</td>\n",
       "      <td>Quận Ba Đình</td>\n",
       "      <td>1</td>\n",
       "      <td>Phường Trúc Bạch</td>\n",
       "      <td>4</td>\n",
       "      <td>Phường</td>\n",
       "      <td>NaN</td>\n",
       "      <td>hà nội</td>\n",
       "      <td>ba đình</td>\n",
       "    </tr>\n",
       "    <tr>\n",
       "      <th>2</th>\n",
       "      <td>Thành phố Hà Nội</td>\n",
       "      <td>1</td>\n",
       "      <td>Quận Ba Đình</td>\n",
       "      <td>1</td>\n",
       "      <td>Phường Vĩnh Phúc</td>\n",
       "      <td>6</td>\n",
       "      <td>Phường</td>\n",
       "      <td>Vinh Phuc Commune</td>\n",
       "      <td>hà nội</td>\n",
       "      <td>ba đình</td>\n",
       "    </tr>\n",
       "    <tr>\n",
       "      <th>3</th>\n",
       "      <td>Thành phố Hà Nội</td>\n",
       "      <td>1</td>\n",
       "      <td>Quận Ba Đình</td>\n",
       "      <td>1</td>\n",
       "      <td>Phường Cống Vị</td>\n",
       "      <td>7</td>\n",
       "      <td>Phường</td>\n",
       "      <td>NaN</td>\n",
       "      <td>hà nội</td>\n",
       "      <td>ba đình</td>\n",
       "    </tr>\n",
       "    <tr>\n",
       "      <th>4</th>\n",
       "      <td>Thành phố Hà Nội</td>\n",
       "      <td>1</td>\n",
       "      <td>Quận Ba Đình</td>\n",
       "      <td>1</td>\n",
       "      <td>Phường Liễu Giai</td>\n",
       "      <td>8</td>\n",
       "      <td>Phường</td>\n",
       "      <td>Lieu Giai Commune</td>\n",
       "      <td>hà nội</td>\n",
       "      <td>ba đình</td>\n",
       "    </tr>\n",
       "  </tbody>\n",
       "</table>\n",
       "</div>"
      ],
      "text/plain": [
       "     Tỉnh Thành Phố  Mã TP    Quận Huyện  Mã QH         Phường Xã  Mã PX  \\\n",
       "0  Thành phố Hà Nội      1  Quận Ba Đình      1    Phường Phúc Xá      1   \n",
       "1  Thành phố Hà Nội      1  Quận Ba Đình      1  Phường Trúc Bạch      4   \n",
       "2  Thành phố Hà Nội      1  Quận Ba Đình      1  Phường Vĩnh Phúc      6   \n",
       "3  Thành phố Hà Nội      1  Quận Ba Đình      1    Phường Cống Vị      7   \n",
       "4  Thành phố Hà Nội      1  Quận Ba Đình      1  Phường Liễu Giai      8   \n",
       "\n",
       "      Cấp      Tên Tiếng Anh Tỉnh Thành Phố Normalized Quận Huyện Normalized  \n",
       "0  Phường                NaN                    hà nội               ba đình  \n",
       "1  Phường                NaN                    hà nội               ba đình  \n",
       "2  Phường  Vinh Phuc Commune                    hà nội               ba đình  \n",
       "3  Phường                NaN                    hà nội               ba đình  \n",
       "4  Phường  Lieu Giai Commune                    hà nội               ba đình  "
      ]
     },
     "execution_count": 15,
     "metadata": {},
     "output_type": "execute_result"
    }
   ],
   "source": [
    "df.head()"
   ]
  },
  {
   "cell_type": "code",
   "execution_count": 16,
   "metadata": {},
   "outputs": [],
   "source": [
    "quan_huyen_normalized_set = set()"
   ]
  },
  {
   "cell_type": "code",
   "execution_count": 17,
   "metadata": {},
   "outputs": [],
   "source": [
    "for index, row in df[['Quận Huyện Normalized', 'Tỉnh Thành Phố Normalized']].iterrows():\n",
    "    quan_huyen_normalized_set.add((row[0], row[1]))"
   ]
  },
  {
   "cell_type": "code",
   "execution_count": 18,
   "metadata": {},
   "outputs": [],
   "source": [
    "with open('./src/data/districts.txt', 'w') as f:\n",
    "    for quan_huyen, tinh_tp in quan_huyen_normalized_set:\n",
    "        f.write('{}\\t{}\\n'.format(quan_huyen, tinh_tp))"
   ]
  },
  {
   "cell_type": "code",
   "execution_count": 19,
   "metadata": {},
   "outputs": [],
   "source": [
    "def phuong_xa_normalize(phuong_xa):\n",
    "    phuong_xa = phuong_xa.lower()\n",
    "    phuong_xa = spelling_correction(phuong_xa)\n",
    "    phuong_xa = spelling_correction(phuong_xa)\n",
    "    phuong_xa = ' '.join(phuong_xa.split())\n",
    "    if phuong_xa.startswith('xã'):\n",
    "        phuong_xa_cut = phuong_xa[2:]\n",
    "    elif phuong_xa.startswith('phường'):\n",
    "        phuong_xa_cut = phuong_xa[6:]\n",
    "    elif phuong_xa.startswith('thị trấn'):\n",
    "        phuong_xa_cut = phuong_xa[8:]\n",
    "    else:\n",
    "        phuong_xa_cut = phuong_xa\n",
    "    phuong_xa_cut = phuong_xa_cut.strip()\n",
    "    if len(phuong_xa_cut) < 5:\n",
    "        if phuong_xa_cut.isdigit():\n",
    "            if phuong_xa_cut.startswith('0'):\n",
    "                phuong_xa_cut = phuong_xa_cut[1:]\n",
    "            return '{}|{}|{}|{}'.format(phuong_xa, phuong_xa_cut, 'P'+phuong_xa_cut, 'phường ' + phuong_xa_cut)\n",
    "        return '{}|{}'.format(phuong_xa, phuong_xa_cut)\n",
    "    else:\n",
    "        return phuong_xa_cut"
   ]
  },
  {
   "cell_type": "code",
   "execution_count": 20,
   "metadata": {},
   "outputs": [],
   "source": [
    "df['Phường Xã Normalize'] = df['Phường Xã'].apply(phuong_xa_normalize)"
   ]
  },
  {
   "cell_type": "code",
   "execution_count": 21,
   "metadata": {
    "scrolled": true
   },
   "outputs": [
    {
     "data": {
      "text/html": [
       "<div>\n",
       "<style scoped>\n",
       "    .dataframe tbody tr th:only-of-type {\n",
       "        vertical-align: middle;\n",
       "    }\n",
       "\n",
       "    .dataframe tbody tr th {\n",
       "        vertical-align: top;\n",
       "    }\n",
       "\n",
       "    .dataframe thead th {\n",
       "        text-align: right;\n",
       "    }\n",
       "</style>\n",
       "<table border=\"1\" class=\"dataframe\">\n",
       "  <thead>\n",
       "    <tr style=\"text-align: right;\">\n",
       "      <th></th>\n",
       "      <th>Tỉnh Thành Phố</th>\n",
       "      <th>Mã TP</th>\n",
       "      <th>Quận Huyện</th>\n",
       "      <th>Mã QH</th>\n",
       "      <th>Phường Xã</th>\n",
       "      <th>Mã PX</th>\n",
       "      <th>Cấp</th>\n",
       "      <th>Tên Tiếng Anh</th>\n",
       "      <th>Tỉnh Thành Phố Normalized</th>\n",
       "      <th>Quận Huyện Normalized</th>\n",
       "      <th>Phường Xã Normalize</th>\n",
       "    </tr>\n",
       "  </thead>\n",
       "  <tbody>\n",
       "    <tr>\n",
       "      <th>0</th>\n",
       "      <td>Thành phố Hà Nội</td>\n",
       "      <td>1</td>\n",
       "      <td>Quận Ba Đình</td>\n",
       "      <td>1</td>\n",
       "      <td>Phường Phúc Xá</td>\n",
       "      <td>1</td>\n",
       "      <td>Phường</td>\n",
       "      <td>NaN</td>\n",
       "      <td>hà nội</td>\n",
       "      <td>ba đình</td>\n",
       "      <td>phúc xá</td>\n",
       "    </tr>\n",
       "    <tr>\n",
       "      <th>1</th>\n",
       "      <td>Thành phố Hà Nội</td>\n",
       "      <td>1</td>\n",
       "      <td>Quận Ba Đình</td>\n",
       "      <td>1</td>\n",
       "      <td>Phường Trúc Bạch</td>\n",
       "      <td>4</td>\n",
       "      <td>Phường</td>\n",
       "      <td>NaN</td>\n",
       "      <td>hà nội</td>\n",
       "      <td>ba đình</td>\n",
       "      <td>trúc bạch</td>\n",
       "    </tr>\n",
       "    <tr>\n",
       "      <th>2</th>\n",
       "      <td>Thành phố Hà Nội</td>\n",
       "      <td>1</td>\n",
       "      <td>Quận Ba Đình</td>\n",
       "      <td>1</td>\n",
       "      <td>Phường Vĩnh Phúc</td>\n",
       "      <td>6</td>\n",
       "      <td>Phường</td>\n",
       "      <td>Vinh Phuc Commune</td>\n",
       "      <td>hà nội</td>\n",
       "      <td>ba đình</td>\n",
       "      <td>vĩnh phúc</td>\n",
       "    </tr>\n",
       "    <tr>\n",
       "      <th>3</th>\n",
       "      <td>Thành phố Hà Nội</td>\n",
       "      <td>1</td>\n",
       "      <td>Quận Ba Đình</td>\n",
       "      <td>1</td>\n",
       "      <td>Phường Cống Vị</td>\n",
       "      <td>7</td>\n",
       "      <td>Phường</td>\n",
       "      <td>NaN</td>\n",
       "      <td>hà nội</td>\n",
       "      <td>ba đình</td>\n",
       "      <td>cống vị</td>\n",
       "    </tr>\n",
       "    <tr>\n",
       "      <th>4</th>\n",
       "      <td>Thành phố Hà Nội</td>\n",
       "      <td>1</td>\n",
       "      <td>Quận Ba Đình</td>\n",
       "      <td>1</td>\n",
       "      <td>Phường Liễu Giai</td>\n",
       "      <td>8</td>\n",
       "      <td>Phường</td>\n",
       "      <td>Lieu Giai Commune</td>\n",
       "      <td>hà nội</td>\n",
       "      <td>ba đình</td>\n",
       "      <td>liễu giai</td>\n",
       "    </tr>\n",
       "  </tbody>\n",
       "</table>\n",
       "</div>"
      ],
      "text/plain": [
       "     Tỉnh Thành Phố  Mã TP    Quận Huyện  Mã QH         Phường Xã  Mã PX  \\\n",
       "0  Thành phố Hà Nội      1  Quận Ba Đình      1    Phường Phúc Xá      1   \n",
       "1  Thành phố Hà Nội      1  Quận Ba Đình      1  Phường Trúc Bạch      4   \n",
       "2  Thành phố Hà Nội      1  Quận Ba Đình      1  Phường Vĩnh Phúc      6   \n",
       "3  Thành phố Hà Nội      1  Quận Ba Đình      1    Phường Cống Vị      7   \n",
       "4  Thành phố Hà Nội      1  Quận Ba Đình      1  Phường Liễu Giai      8   \n",
       "\n",
       "      Cấp      Tên Tiếng Anh Tỉnh Thành Phố Normalized Quận Huyện Normalized  \\\n",
       "0  Phường                NaN                    hà nội               ba đình   \n",
       "1  Phường                NaN                    hà nội               ba đình   \n",
       "2  Phường  Vinh Phuc Commune                    hà nội               ba đình   \n",
       "3  Phường                NaN                    hà nội               ba đình   \n",
       "4  Phường  Lieu Giai Commune                    hà nội               ba đình   \n",
       "\n",
       "  Phường Xã Normalize  \n",
       "0             phúc xá  \n",
       "1           trúc bạch  \n",
       "2           vĩnh phúc  \n",
       "3             cống vị  \n",
       "4           liễu giai  "
      ]
     },
     "execution_count": 21,
     "metadata": {},
     "output_type": "execute_result"
    }
   ],
   "source": [
    "df.head()"
   ]
  },
  {
   "cell_type": "code",
   "execution_count": 22,
   "metadata": {
    "scrolled": true
   },
   "outputs": [
    {
     "data": {
      "text/html": [
       "<div>\n",
       "<style scoped>\n",
       "    .dataframe tbody tr th:only-of-type {\n",
       "        vertical-align: middle;\n",
       "    }\n",
       "\n",
       "    .dataframe tbody tr th {\n",
       "        vertical-align: top;\n",
       "    }\n",
       "\n",
       "    .dataframe thead th {\n",
       "        text-align: right;\n",
       "    }\n",
       "</style>\n",
       "<table border=\"1\" class=\"dataframe\">\n",
       "  <thead>\n",
       "    <tr style=\"text-align: right;\">\n",
       "      <th></th>\n",
       "      <th>Tỉnh Thành Phố</th>\n",
       "      <th>Mã TP</th>\n",
       "      <th>Quận Huyện</th>\n",
       "      <th>Mã QH</th>\n",
       "      <th>Phường Xã</th>\n",
       "      <th>Mã PX</th>\n",
       "      <th>Cấp</th>\n",
       "      <th>Tên Tiếng Anh</th>\n",
       "      <th>Tỉnh Thành Phố Normalized</th>\n",
       "      <th>Quận Huyện Normalized</th>\n",
       "      <th>Phường Xã Normalize</th>\n",
       "    </tr>\n",
       "  </thead>\n",
       "  <tbody>\n",
       "    <tr>\n",
       "      <th>10249</th>\n",
       "      <td>Tỉnh Vĩnh Long</td>\n",
       "      <td>86</td>\n",
       "      <td>Thị xã Bình Minh</td>\n",
       "      <td>861</td>\n",
       "      <td>Phường Cái Vồn</td>\n",
       "      <td>29770</td>\n",
       "      <td>Phường</td>\n",
       "      <td>NaN</td>\n",
       "      <td>vĩnh long</td>\n",
       "      <td>bình minh</td>\n",
       "      <td>cái vồn</td>\n",
       "    </tr>\n",
       "    <tr>\n",
       "      <th>10250</th>\n",
       "      <td>Tỉnh Vĩnh Long</td>\n",
       "      <td>86</td>\n",
       "      <td>Thị xã Bình Minh</td>\n",
       "      <td>861</td>\n",
       "      <td>Phường Thành Phước</td>\n",
       "      <td>29771</td>\n",
       "      <td>Phường</td>\n",
       "      <td>NaN</td>\n",
       "      <td>vĩnh long</td>\n",
       "      <td>bình minh</td>\n",
       "      <td>thành phước</td>\n",
       "    </tr>\n",
       "    <tr>\n",
       "      <th>10251</th>\n",
       "      <td>Tỉnh Vĩnh Long</td>\n",
       "      <td>86</td>\n",
       "      <td>Thị xã Bình Minh</td>\n",
       "      <td>861</td>\n",
       "      <td>Xã Thuận An</td>\n",
       "      <td>29806</td>\n",
       "      <td>Xã</td>\n",
       "      <td>NaN</td>\n",
       "      <td>vĩnh long</td>\n",
       "      <td>bình minh</td>\n",
       "      <td>thuận an</td>\n",
       "    </tr>\n",
       "    <tr>\n",
       "      <th>10252</th>\n",
       "      <td>Tỉnh Vĩnh Long</td>\n",
       "      <td>86</td>\n",
       "      <td>Thị xã Bình Minh</td>\n",
       "      <td>861</td>\n",
       "      <td>Xã Đông Thạnh</td>\n",
       "      <td>29809</td>\n",
       "      <td>Xã</td>\n",
       "      <td>NaN</td>\n",
       "      <td>vĩnh long</td>\n",
       "      <td>bình minh</td>\n",
       "      <td>đông thạnh</td>\n",
       "    </tr>\n",
       "    <tr>\n",
       "      <th>10253</th>\n",
       "      <td>Tỉnh Vĩnh Long</td>\n",
       "      <td>86</td>\n",
       "      <td>Thị xã Bình Minh</td>\n",
       "      <td>861</td>\n",
       "      <td>Xã Đông Bình</td>\n",
       "      <td>29812</td>\n",
       "      <td>Xã</td>\n",
       "      <td>NaN</td>\n",
       "      <td>vĩnh long</td>\n",
       "      <td>bình minh</td>\n",
       "      <td>đông bình</td>\n",
       "    </tr>\n",
       "    <tr>\n",
       "      <th>10254</th>\n",
       "      <td>Tỉnh Vĩnh Long</td>\n",
       "      <td>86</td>\n",
       "      <td>Thị xã Bình Minh</td>\n",
       "      <td>861</td>\n",
       "      <td>Phường Đông Thuận</td>\n",
       "      <td>29813</td>\n",
       "      <td>Phường</td>\n",
       "      <td>NaN</td>\n",
       "      <td>vĩnh long</td>\n",
       "      <td>bình minh</td>\n",
       "      <td>đông thuận</td>\n",
       "    </tr>\n",
       "    <tr>\n",
       "      <th>10255</th>\n",
       "      <td>Tỉnh Vĩnh Long</td>\n",
       "      <td>86</td>\n",
       "      <td>Thị xã Bình Minh</td>\n",
       "      <td>861</td>\n",
       "      <td>Xã Mỹ Hòa</td>\n",
       "      <td>29815</td>\n",
       "      <td>Xã</td>\n",
       "      <td>NaN</td>\n",
       "      <td>vĩnh long</td>\n",
       "      <td>bình minh</td>\n",
       "      <td>mỹ hòa</td>\n",
       "    </tr>\n",
       "    <tr>\n",
       "      <th>10256</th>\n",
       "      <td>Tỉnh Vĩnh Long</td>\n",
       "      <td>86</td>\n",
       "      <td>Thị xã Bình Minh</td>\n",
       "      <td>861</td>\n",
       "      <td>Xã Đông Thành</td>\n",
       "      <td>29818</td>\n",
       "      <td>Xã</td>\n",
       "      <td>NaN</td>\n",
       "      <td>vĩnh long</td>\n",
       "      <td>bình minh</td>\n",
       "      <td>đông thành</td>\n",
       "    </tr>\n",
       "  </tbody>\n",
       "</table>\n",
       "</div>"
      ],
      "text/plain": [
       "       Tỉnh Thành Phố  Mã TP        Quận Huyện  Mã QH           Phường Xã  \\\n",
       "10249  Tỉnh Vĩnh Long     86  Thị xã Bình Minh    861      Phường Cái Vồn   \n",
       "10250  Tỉnh Vĩnh Long     86  Thị xã Bình Minh    861  Phường Thành Phước   \n",
       "10251  Tỉnh Vĩnh Long     86  Thị xã Bình Minh    861         Xã Thuận An   \n",
       "10252  Tỉnh Vĩnh Long     86  Thị xã Bình Minh    861       Xã Đông Thạnh   \n",
       "10253  Tỉnh Vĩnh Long     86  Thị xã Bình Minh    861        Xã Đông Bình   \n",
       "10254  Tỉnh Vĩnh Long     86  Thị xã Bình Minh    861   Phường Đông Thuận   \n",
       "10255  Tỉnh Vĩnh Long     86  Thị xã Bình Minh    861           Xã Mỹ Hòa   \n",
       "10256  Tỉnh Vĩnh Long     86  Thị xã Bình Minh    861       Xã Đông Thành   \n",
       "\n",
       "       Mã PX     Cấp Tên Tiếng Anh Tỉnh Thành Phố Normalized  \\\n",
       "10249  29770  Phường           NaN                 vĩnh long   \n",
       "10250  29771  Phường           NaN                 vĩnh long   \n",
       "10251  29806      Xã           NaN                 vĩnh long   \n",
       "10252  29809      Xã           NaN                 vĩnh long   \n",
       "10253  29812      Xã           NaN                 vĩnh long   \n",
       "10254  29813  Phường           NaN                 vĩnh long   \n",
       "10255  29815      Xã           NaN                 vĩnh long   \n",
       "10256  29818      Xã           NaN                 vĩnh long   \n",
       "\n",
       "      Quận Huyện Normalized Phường Xã Normalize  \n",
       "10249             bình minh             cái vồn  \n",
       "10250             bình minh         thành phước  \n",
       "10251             bình minh            thuận an  \n",
       "10252             bình minh          đông thạnh  \n",
       "10253             bình minh           đông bình  \n",
       "10254             bình minh          đông thuận  \n",
       "10255             bình minh              mỹ hòa  \n",
       "10256             bình minh          đông thành  "
      ]
     },
     "execution_count": 22,
     "metadata": {},
     "output_type": "execute_result"
    }
   ],
   "source": [
    "df[df['Quận Huyện Normalized'] == 'bình minh']"
   ]
  },
  {
   "cell_type": "code",
   "execution_count": 23,
   "metadata": {},
   "outputs": [],
   "source": [
    "phuong_xa_normalized_set = set()"
   ]
  },
  {
   "cell_type": "code",
   "execution_count": 24,
   "metadata": {},
   "outputs": [],
   "source": [
    "for index, row in df[['Phường Xã Normalize','Quận Huyện Normalized', 'Tỉnh Thành Phố Normalized']].iterrows():\n",
    "    phuong_xa_normalized_set.add((row[0], row[1], row[2]))"
   ]
  },
  {
   "cell_type": "code",
   "execution_count": 25,
   "metadata": {},
   "outputs": [],
   "source": [
    "with open('./src/data/wards.txt', 'w') as f:\n",
    "    for phuong_xa, quan_huyen, tinh_tp in phuong_xa_normalized_set:\n",
    "        f.write('{}\\t{}\\t{}\\n'.format(phuong_xa, quan_huyen, tinh_tp))\n",
    "    f.write('{}\\t{}\\t{}\\n'.format('nguyễn ư dĩ', 'hải dương', 'hải dương'))\n",
    "    f.write('{}\\t{}\\t{}\\n'.format('bùi thị xuân', 'hải dương', 'hải dương'))\n",
    "    f.write('{}\\t{}\\t{}\\n'.format('trần huy liệu', 'nam định', 'nam định'))\n",
    "    f.write('{}\\t{}\\t{}\\n'.format('lò đúc', 'hai bà trưng', 'hà nội'))        "
   ]
  },
  {
   "cell_type": "code",
   "execution_count": 26,
   "metadata": {},
   "outputs": [],
   "source": [
    "phuong_xa_set = set(df['Phường Xã'])"
   ]
  },
  {
   "cell_type": "code",
   "execution_count": 27,
   "metadata": {
    "scrolled": true
   },
   "outputs": [
    {
     "ename": "NameError",
     "evalue": "name 'is_number' is not defined",
     "output_type": "error",
     "traceback": [
      "\u001b[0;31m---------------------------------------------------------------------------\u001b[0m",
      "\u001b[0;31mNameError\u001b[0m                                 Traceback (most recent call last)",
      "\u001b[0;32m<ipython-input-27-a3471c479f60>\u001b[0m in \u001b[0;36m<module>\u001b[0;34m()\u001b[0m\n\u001b[1;32m     13\u001b[0m     \u001b[0mphuong_xa_cut\u001b[0m \u001b[0;34m=\u001b[0m \u001b[0mphuong_xa_cut\u001b[0m\u001b[0;34m.\u001b[0m\u001b[0mstrip\u001b[0m\u001b[0;34m(\u001b[0m\u001b[0;34m)\u001b[0m\u001b[0;34m\u001b[0m\u001b[0m\n\u001b[1;32m     14\u001b[0m     \u001b[0;32mif\u001b[0m \u001b[0mlen\u001b[0m\u001b[0;34m(\u001b[0m\u001b[0mphuong_xa_cut\u001b[0m\u001b[0;34m)\u001b[0m \u001b[0;34m<\u001b[0m \u001b[0;36m5\u001b[0m\u001b[0;34m:\u001b[0m\u001b[0;34m\u001b[0m\u001b[0m\n\u001b[0;32m---> 15\u001b[0;31m         \u001b[0;32mif\u001b[0m \u001b[0;32mnot\u001b[0m \u001b[0mis_number\u001b[0m\u001b[0;34m(\u001b[0m\u001b[0mphuong_xa_cut\u001b[0m\u001b[0;34m)\u001b[0m\u001b[0;34m:\u001b[0m\u001b[0;34m\u001b[0m\u001b[0m\n\u001b[0m\u001b[1;32m     16\u001b[0m             \u001b[0mphuong_xa_normalized_set\u001b[0m\u001b[0;34m.\u001b[0m\u001b[0madd\u001b[0m\u001b[0;34m(\u001b[0m\u001b[0mphuong_xa_cut\u001b[0m\u001b[0;34m)\u001b[0m\u001b[0;34m\u001b[0m\u001b[0m\n\u001b[1;32m     17\u001b[0m         \u001b[0mphuong_xa_normalized_set\u001b[0m\u001b[0;34m.\u001b[0m\u001b[0madd\u001b[0m\u001b[0;34m(\u001b[0m\u001b[0mphuong_xa\u001b[0m\u001b[0;34m)\u001b[0m\u001b[0;34m\u001b[0m\u001b[0m\n",
      "\u001b[0;31mNameError\u001b[0m: name 'is_number' is not defined"
     ]
    }
   ],
   "source": [
    "phuong_xa_normalized_set = set()\n",
    "for phuong_xa in phuong_xa_set:\n",
    "#     l1 = len(phuong_xa_normalized_set)\n",
    "    phuong_xa = phuong_xa.lower()\n",
    "    if phuong_xa.startswith('xã'):\n",
    "        phuong_xa_cut = phuong_xa[2:]\n",
    "    elif phuong_xa.startswith('phường'):\n",
    "        phuong_xa_cut = phuong_xa[6:]\n",
    "    elif phuong_xa.startswith('thị trấn'):\n",
    "        phuong_xa_cut = phuong_xa[8:]\n",
    "    else:\n",
    "        phuong_xa_cut = phuong_xa\n",
    "    phuong_xa_cut = phuong_xa_cut.strip()\n",
    "    if len(phuong_xa_cut) < 5:\n",
    "        if not is_number(phuong_xa_cut):\n",
    "            phuong_xa_normalized_set.add(phuong_xa_cut)\n",
    "        phuong_xa_normalized_set.add(phuong_xa)\n",
    "    else:\n",
    "        phuong_xa_normalized_set.add(phuong_xa_cut)\n",
    "#     l2 = len(phuong_xa_normalized_set)"
   ]
  },
  {
   "cell_type": "code",
   "execution_count": 28,
   "metadata": {},
   "outputs": [
    {
     "ename": "NameError",
     "evalue": "name 'address_entities' is not defined",
     "output_type": "error",
     "traceback": [
      "\u001b[0;31m---------------------------------------------------------------------------\u001b[0m",
      "\u001b[0;31mNameError\u001b[0m                                 Traceback (most recent call last)",
      "\u001b[0;32m<ipython-input-28-a43e963d960a>\u001b[0m in \u001b[0;36m<module>\u001b[0;34m()\u001b[0m\n\u001b[0;32m----> 1\u001b[0;31m \u001b[0mlen\u001b[0m\u001b[0;34m(\u001b[0m\u001b[0maddress_entities\u001b[0m\u001b[0;34m)\u001b[0m\u001b[0;34m\u001b[0m\u001b[0m\n\u001b[0m",
      "\u001b[0;31mNameError\u001b[0m: name 'address_entities' is not defined"
     ]
    }
   ],
   "source": [
    "len(address_entities)"
   ]
  },
  {
   "cell_type": "code",
   "execution_count": 98,
   "metadata": {},
   "outputs": [],
   "source": [
    "address_entities = phuong_xa_normalized_set | quan_huyen_normalized_set | tinh_tp_normalized_set"
   ]
  },
  {
   "cell_type": "code",
   "execution_count": 102,
   "metadata": {},
   "outputs": [],
   "source": [
    "f = open('./adress_entities.txt', 'w')\n",
    "for address_entity in address_entities:\n",
    "    address_entity = ' '.join(address_entity.split())\n",
    "    f.write(address_entity + '\\n')\n",
    "f.close()"
   ]
  },
  {
   "cell_type": "code",
   "execution_count": 107,
   "metadata": {},
   "outputs": [],
   "source": [
    "import json"
   ]
  },
  {
   "cell_type": "code",
   "execution_count": 108,
   "metadata": {},
   "outputs": [],
   "source": [
    "f = open('./json/11721197_01234518428_CMND_MatTruoc.json')\n",
    "data = f.read()\n",
    "f.close()"
   ]
  },
  {
   "cell_type": "code",
   "execution_count": 112,
   "metadata": {},
   "outputs": [],
   "source": [
    "data = json.loads(data)"
   ]
  },
  {
   "cell_type": "code",
   "execution_count": 114,
   "metadata": {
    "collapsed": true
   },
   "outputs": [
    {
     "name": "stdout",
     "output_type": "stream",
     "text": [
      "{\n",
      "    \"file\": \"11721197_01234518428_CMND_MatTruoc.jpg\",\n",
      "    \"ID\": [\n",
      "        {\n",
      "            \"label\": \"022085002613\",\n",
      "            \"box\": {\n",
      "                \"name\": \"rect\",\n",
      "                \"x\": 357,\n",
      "                \"y\": 137,\n",
      "                \"width\": 336,\n",
      "                \"height\": 39\n",
      "            }\n",
      "        }\n",
      "    ],\n",
      "    \"name\": [\n",
      "        {\n",
      "            \"label\": \"TRẦN\",\n",
      "            \"box\": {\n",
      "                \"name\": \"rect\",\n",
      "                \"x\": 408,\n",
      "                \"y\": 223,\n",
      "                \"width\": 78,\n",
      "                \"height\": 27\n",
      "            }\n",
      "        },\n",
      "        {\n",
      "            \"label\": \"QUANG\",\n",
      "            \"box\": {\n",
      "                \"name\": \"rect\",\n",
      "                \"x\": 487,\n",
      "                \"y\": 227,\n",
      "                \"width\": 105,\n",
      "                \"height\": 26\n",
      "            }\n",
      "        },\n",
      "        {\n",
      "            \"label\": \"TỰ\",\n",
      "            \"box\": {\n",
      "                \"name\": \"rect\",\n",
      "                \"x\": 598,\n",
      "                \"y\": 228,\n",
      "                \"width\": 41,\n",
      "                \"height\": 29\n",
      "            }\n",
      "        }\n",
      "    ],\n",
      "    \"DOB\": [\n",
      "        {\n",
      "            \"label\": \"08/08/1985\",\n",
      "            \"box\": {\n",
      "                \"name\": \"rect\",\n",
      "                \"x\": 476,\n",
      "                \"y\": 266,\n",
      "                \"width\": 141,\n",
      "                \"height\": 23\n",
      "            }\n",
      "        }\n",
      "    ],\n",
      "    \"doe\": [\n",
      "        {\n",
      "            \"label\": \"08/08/2025\",\n",
      "            \"box\": {\n",
      "                \"name\": \"rect\",\n",
      "                \"x\": 151,\n",
      "                \"y\": 466,\n",
      "                \"width\": 109,\n",
      "                \"height\": 23\n",
      "            }\n",
      "        }\n",
      "    ],\n",
      "    \"reis\": [\n",
      "        {\n",
      "            \"label\": \"Việt\",\n",
      "            \"box\": {\n",
      "                \"name\": \"rect\",\n",
      "                \"x\": 585,\n",
      "                \"y\": 306,\n",
      "                \"width\": 49,\n",
      "                \"height\": 29\n",
      "            }\n",
      "        },\n",
      "        {\n",
      "            \"label\": \"Nam\",\n",
      "            \"box\": {\n",
      "                \"name\": \"rect\",\n",
      "                \"x\": 637,\n",
      "                \"y\": 307,\n",
      "                \"width\": 63,\n",
      "                \"height\": 27\n",
      "            }\n",
      "        }\n",
      "    ],\n",
      "    \"sex\": [\n",
      "        {\n",
      "            \"label\": \"Nam\",\n",
      "            \"box\": {\n",
      "                \"name\": \"rect\",\n",
      "                \"x\": 355,\n",
      "                \"y\": 304,\n",
      "                \"width\": 57,\n",
      "                \"height\": 28\n",
      "            }\n",
      "        }\n",
      "    ],\n",
      "    \"home\": [\n",
      "        {\n",
      "            \"label\": \"Hưng\",\n",
      "            \"box\": {\n",
      "                \"name\": \"rect\",\n",
      "                \"x\": 371,\n",
      "                \"y\": 350,\n",
      "                \"width\": 71,\n",
      "                \"height\": 30\n",
      "            }\n",
      "        },\n",
      "        {\n",
      "            \"label\": \"Hà\",\n",
      "            \"box\": {\n",
      "                \"name\": \"rect\",\n",
      "                \"x\": 445,\n",
      "                \"y\": 349,\n",
      "                \"width\": 39,\n",
      "                \"height\": 27\n",
      "            }\n",
      "        },\n",
      "        {\n",
      "            \"label\": \"Thái\",\n",
      "            \"box\": {\n",
      "                \"name\": \"rect\",\n",
      "                \"x\": 489,\n",
      "                \"y\": 348,\n",
      "                \"width\": 58,\n",
      "                \"height\": 30\n",
      "            }\n",
      "        },\n",
      "        {\n",
      "            \"label\": \"Bình\",\n",
      "            \"box\": {\n",
      "                \"name\": \"rect\",\n",
      "                \"x\": 549,\n",
      "                \"y\": 351,\n",
      "                \"width\": 61,\n",
      "                \"height\": 27\n",
      "            }\n",
      "        }\n",
      "    ],\n",
      "    \"address\": [\n",
      "        {\n",
      "            \"label\": \"Tổ\",\n",
      "            \"box\": {\n",
      "                \"name\": \"rect\",\n",
      "                \"x\": 405,\n",
      "                \"y\": 407,\n",
      "                \"width\": 36,\n",
      "                \"height\": 29\n",
      "            }\n",
      "        },\n",
      "        {\n",
      "            \"label\": \"5\",\n",
      "            \"box\": {\n",
      "                \"name\": \"rect\",\n",
      "                \"x\": 441,\n",
      "                \"y\": 409,\n",
      "                \"width\": 19,\n",
      "                \"height\": 27\n",
      "            }\n",
      "        },\n",
      "        {\n",
      "            \"label\": \"Tân\",\n",
      "            \"box\": {\n",
      "                \"name\": \"rect\",\n",
      "                \"x\": 470,\n",
      "                \"y\": 410,\n",
      "                \"width\": 52,\n",
      "                \"height\": 27\n",
      "            }\n",
      "        },\n",
      "        {\n",
      "            \"label\": \"Lập\",\n",
      "            \"box\": {\n",
      "                \"name\": \"rect\",\n",
      "                \"x\": 525,\n",
      "                \"y\": 413,\n",
      "                \"width\": 45,\n",
      "                \"height\": 32\n",
      "            }\n",
      "        },\n",
      "        {\n",
      "            \"label\": \"1\",\n",
      "            \"box\": {\n",
      "                \"name\": \"rect\",\n",
      "                \"x\": 576,\n",
      "                \"y\": 416,\n",
      "                \"width\": 17,\n",
      "                \"height\": 23\n",
      "            }\n",
      "        },\n",
      "        {\n",
      "            \"label\": \"Cẩm\",\n",
      "            \"box\": {\n",
      "                \"name\": \"rect\",\n",
      "                \"x\": 606,\n",
      "                \"y\": 408,\n",
      "                \"width\": 60,\n",
      "                \"height\": 32\n",
      "            }\n",
      "        },\n",
      "        {\n",
      "            \"label\": \"Thủy\",\n",
      "            \"box\": {\n",
      "                \"name\": \"rect\",\n",
      "                \"x\": 669,\n",
      "                \"y\": 413,\n",
      "                \"width\": 63,\n",
      "                \"height\": 33\n",
      "            }\n",
      "        },\n",
      "        {\n",
      "            \"label\": \"Cẩm\",\n",
      "            \"box\": {\n",
      "                \"name\": \"rect\",\n",
      "                \"x\": 392,\n",
      "                \"y\": 441,\n",
      "                \"width\": 61,\n",
      "                \"height\": 33\n",
      "            }\n",
      "        },\n",
      "        {\n",
      "            \"label\": \"Phả\",\n",
      "            \"box\": {\n",
      "                \"name\": \"rect\",\n",
      "                \"x\": 455,\n",
      "                \"y\": 447,\n",
      "                \"width\": 49,\n",
      "                \"height\": 26\n",
      "            }\n",
      "        },\n",
      "        {\n",
      "            \"label\": \"Quảng\",\n",
      "            \"box\": {\n",
      "                \"name\": \"rect\",\n",
      "                \"x\": 519,\n",
      "                \"y\": 448,\n",
      "                \"width\": 79,\n",
      "                \"height\": 31\n",
      "            }\n",
      "        },\n",
      "        {\n",
      "            \"label\": \"Ninh\",\n",
      "            \"box\": {\n",
      "                \"name\": \"rect\",\n",
      "                \"x\": 605,\n",
      "                \"y\": 451,\n",
      "                \"width\": 55,\n",
      "                \"height\": 27\n",
      "            }\n",
      "        }\n",
      "    ]\n",
      "}\n"
     ]
    }
   ],
   "source": [
    "print(json.dumps(data, indent=4, ensure_ascii=False))"
   ]
  },
  {
   "cell_type": "code",
   "execution_count": 116,
   "metadata": {
    "scrolled": false
   },
   "outputs": [
    {
     "name": "stdout",
     "output_type": "stream",
     "text": [
      "Tổ\n",
      "5\n",
      "Tân\n",
      "Lập\n",
      "1\n",
      "Cẩm\n",
      "Thủy\n",
      "Cẩm\n",
      "Phả\n",
      "Quảng\n",
      "Ninh\n"
     ]
    }
   ],
   "source": [
    "for box in data['address']:\n",
    "    print(box['label'])"
   ]
  },
  {
   "cell_type": "markdown",
   "metadata": {},
   "source": [
    "# Build cost dictionary"
   ]
  },
  {
   "cell_type": "code",
   "execution_count": 29,
   "metadata": {},
   "outputs": [],
   "source": [
    "a_chars = ['a', 'à', 'á', 'ạ', 'ã', 'ả']\n",
    "aw_chars = ['ă', 'ằ', 'ắ', 'ặ', 'ẵ', 'ẳ']\n",
    "aa_chars = ['â', 'ầ', 'ấ', 'ậ', 'ẫ', 'ẩ']\n",
    "d_chars = ['d', 'đ']\n",
    "e_chars = ['e', 'è', 'é', 'ẹ', 'ẽ', 'ẻ']\n",
    "i_chars = ['i', 'ì', 'í', 'ị', 'ĩ', 'ỉ']\n",
    "o_chars = ['o', 'ò', 'ó', 'ọ', 'õ', 'ỏ']\n",
    "oo_chars = ['ô', 'ồ', 'ố', 'ộ', 'ỗ', 'ổ']\n",
    "ow_chars = ['ơ', 'ờ', 'ớ', 'ợ', 'ỡ', 'ở']\n",
    "u_chars = ['u', 'ù', 'ú', 'ụ', 'ũ', 'ủ']\n",
    "uw_chars = ['ư', 'ừ', 'ứ', 'ự', 'ữ', 'ử']\n",
    "y_chars = ['y', 'ỳ', 'ý', 'ỵ', 'ỹ', 'ỷ']\n",
    "an_chars = ['a', 'n']\n",
    "hl_chars = ['h', 'l']\n",
    "# cách mnng tháng tám"
   ]
  },
  {
   "cell_type": "code",
   "execution_count": 30,
   "metadata": {},
   "outputs": [],
   "source": [
    "similar_chars = [a_chars, aw_chars, aa_chars, d_chars, e_chars,\n",
    "                 i_chars, o_chars, oo_chars, ow_chars, u_chars, \n",
    "                 uw_chars, y_chars, an_chars, hl_chars\n",
    "                ]\n"
   ]
  },
  {
   "cell_type": "code",
   "execution_count": 33,
   "metadata": {},
   "outputs": [],
   "source": [
    "f = open('./src/cost_char_dict.txt', 'w')\n",
    "for similar_group in similar_chars:\n",
    "    for i in range(len(similar_group)):\n",
    "        for j in range(i+1, len(similar_group)):\n",
    "            f.write('{}\\t{}\\t{}\\n'.format(similar_group[i], similar_group[j], 0.3))\n",
    "            f.write('{}\\t{}\\t{}\\n'.format(similar_group[j], similar_group[i], 0.3))\n",
    "def write_pairs(f, group1, group2, val):\n",
    "    for e1 in group1:\n",
    "        for e2 in group2:\n",
    "            f.write('{}\\t{}\\t{}\\n'.format(e1, e2, val))\n",
    "write_pairs(f, a_chars, aw_chars, 0.4)\n",
    "write_pairs(f, a_chars, aa_chars, 0.4)\n",
    "write_pairs(f, aw_chars, aa_chars, 0.4)\n",
    "write_pairs(f, a_chars, u_chars, 0.4)\n",
    "\n",
    "write_pairs(f, ow_chars, o_chars, 0.4)\n",
    "write_pairs(f, ow_chars, oo_chars, 0.4)\n",
    "write_pairs(f, o_chars, oo_chars, 0.4)\n",
    "f.close()"
   ]
  },
  {
   "cell_type": "markdown",
   "metadata": {},
   "source": [
    "# Extract data from json raw"
   ]
  },
  {
   "cell_type": "code",
   "execution_count": 19,
   "metadata": {},
   "outputs": [
    {
     "name": "stdout",
     "output_type": "stream",
     "text": [
      "Using matplotlib backend: Qt5Agg\n"
     ]
    }
   ],
   "source": [
    "import os\n",
    "import json\n",
    "%matplotlib\n",
    "import matplotlib.pyplot as plt\n",
    "import imageio"
   ]
  },
  {
   "cell_type": "code",
   "execution_count": 3,
   "metadata": {},
   "outputs": [],
   "source": [
    "data_path = '/media/trivu/data/DataScience/CV/CMT_data/raw/'"
   ]
  },
  {
   "cell_type": "code",
   "execution_count": 4,
   "metadata": {},
   "outputs": [],
   "source": [
    "json_fn = os.listdir(data_path+'json')"
   ]
  },
  {
   "cell_type": "code",
   "execution_count": 22,
   "metadata": {},
   "outputs": [],
   "source": [
    "f = open(data_path+'json/'+json_fn[3])"
   ]
  },
  {
   "cell_type": "code",
   "execution_count": 23,
   "metadata": {},
   "outputs": [],
   "source": [
    "data = json.load(f)\n",
    "f.close()"
   ]
  },
  {
   "cell_type": "code",
   "execution_count": 24,
   "metadata": {},
   "outputs": [],
   "source": [
    "# !curl -X POST 10.3.9.222:5001 -F 'image=@/media/trivu/data/DataScience/CV/CMT_data/raw/images/841289701567_01203006157_341824958_1_2015101113241209.jpg'"
   ]
  },
  {
   "cell_type": "code",
   "execution_count": 25,
   "metadata": {
    "scrolled": true
   },
   "outputs": [
    {
     "data": {
      "text/plain": [
       "{'file': '841289701567_01203007520_250871260_1_2015110219240343.jpg',\n",
       " 'ID': [{'label': '250871260',\n",
       "   'box': {'name': 'rect', 'x': 403, 'y': 120, 'width': 236, 'height': 37}}],\n",
       " 'name': [{'label': 'HUỲNH',\n",
       "   'box': {'name': 'rect', 'x': 364, 'y': 163, 'width': 149, 'height': 57}},\n",
       "  {'label': 'MINH',\n",
       "   'box': {'name': 'rect', 'x': 520, 'y': 165, 'width': 109, 'height': 52}},\n",
       "  {'label': 'TUẤN',\n",
       "   'box': {'name': 'rect', 'x': 631, 'y': 164, 'width': 119, 'height': 55}}],\n",
       " 'DOB': [{'label': '25-04-1992',\n",
       "   'box': {'name': 'rect', 'x': 483, 'y': 261, 'width': 194, 'height': 44}}],\n",
       " 'address': [{'label': 'Đồng',\n",
       "   'box': {'name': 'rect', 'x': 520, 'y': 313, 'width': 97, 'height': 47}},\n",
       "  {'label': 'Nai',\n",
       "   'box': {'name': 'rect', 'x': 617, 'y': 314, 'width': 68, 'height': 44}},\n",
       "  {'label': 'Tổ',\n",
       "   'box': {'name': 'rect', 'x': 595, 'y': 404, 'width': 53, 'height': 40}},\n",
       "  {'label': '5B',\n",
       "   'box': {'name': 'rect', 'x': 651, 'y': 398, 'width': 48, 'height': 47}},\n",
       "  {'label': 'P',\n",
       "   'box': {'name': 'rect', 'x': 247, 'y': 449, 'width': 33, 'height': 50}},\n",
       "  {'label': 'Lộc',\n",
       "   'box': {'name': 'rect', 'x': 281, 'y': 448, 'width': 55, 'height': 49}},\n",
       "  {'label': 'Tiến',\n",
       "   'box': {'name': 'rect', 'x': 341, 'y': 445, 'width': 71, 'height': 52}},\n",
       "  {'label': 'TP',\n",
       "   'box': {'name': 'rect', 'x': 412, 'y': 448, 'width': 57, 'height': 48}},\n",
       "  {'label': 'Bảo',\n",
       "   'box': {'name': 'rect', 'x': 469, 'y': 444, 'width': 62, 'height': 55}},\n",
       "  {'label': 'Lộc',\n",
       "   'box': {'name': 'rect', 'x': 537, 'y': 442, 'width': 53, 'height': 51}},\n",
       "  {'label': 'Lâm',\n",
       "   'box': {'name': 'rect', 'x': 603, 'y': 448, 'width': 69, 'height': 47}},\n",
       "  {'label': 'Đồng',\n",
       "   'box': {'name': 'rect', 'x': 669, 'y': 450, 'width': 95, 'height': 40}}]}"
      ]
     },
     "execution_count": 25,
     "metadata": {},
     "output_type": "execute_result"
    }
   ],
   "source": [
    "data"
   ]
  },
  {
   "cell_type": "code",
   "execution_count": 27,
   "metadata": {},
   "outputs": [],
   "source": [
    "img = imageio.imread('/media/trivu/data/DataScience/CV/CMT_data/raw/images/841289701567_01203007520_250871260_1_2015110219240343.jpg')"
   ]
  },
  {
   "cell_type": "code",
   "execution_count": 28,
   "metadata": {},
   "outputs": [
    {
     "data": {
      "text/plain": [
       "<matplotlib.image.AxesImage at 0x7f629f78f6a0>"
      ]
     },
     "execution_count": 28,
     "metadata": {},
     "output_type": "execute_result"
    }
   ],
   "source": [
    "plt.imshow(img)"
   ]
  }
 ],
 "metadata": {
  "kernelspec": {
   "display_name": "Python 3",
   "language": "python",
   "name": "python3"
  },
  "language_info": {
   "codemirror_mode": {
    "name": "ipython",
    "version": 3
   },
   "file_extension": ".py",
   "mimetype": "text/x-python",
   "name": "python",
   "nbconvert_exporter": "python",
   "pygments_lexer": "ipython3",
   "version": "3.6.5"
  }
 },
 "nbformat": 4,
 "nbformat_minor": 2
}
